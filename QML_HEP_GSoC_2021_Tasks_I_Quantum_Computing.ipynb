{
  "nbformat": 4,
  "nbformat_minor": 0,
  "metadata": {
    "colab": {
      "name": "QML-HEP GSoC 2021 Tasks I Quantum Computing.ipynb",
      "provenance": [],
      "collapsed_sections": []
    },
    "kernelspec": {
      "name": "python3",
      "display_name": "Python 3"
    }
  },
  "cells": [
    {
      "cell_type": "code",
      "metadata": {
        "id": "OUWVHQcpAAWQ"
      },
      "source": [
        "!pip install cirq\n",
        "\n",
        "from IPython.display import clear_output\n",
        "clear_output()"
      ],
      "execution_count": null,
      "outputs": []
    },
    {
      "cell_type": "code",
      "metadata": {
        "id": "Leyjpj2tO9zA"
      },
      "source": [
        "import cirq\n",
        "import numpy as np\n",
        "\n",
        "# visualization tools\n",
        "%matplotlib inline\n",
        "import matplotlib.pyplot as plt"
      ],
      "execution_count": null,
      "outputs": []
    },
    {
      "cell_type": "markdown",
      "metadata": {
        "id": "kbNZLfmRPwHO"
      },
      "source": [
        "# Task I: Quantum Computing Part"
      ]
    },
    {
      "cell_type": "markdown",
      "metadata": {
        "id": "IzxvrZHDP0ad"
      },
      "source": [
        "## 1). Implement a simple quantum operation with Cirq"
      ]
    },
    {
      "cell_type": "code",
      "metadata": {
        "colab": {
          "base_uri": "https://localhost:8080/"
        },
        "id": "SomAGSYfEGZh",
        "outputId": "e0d2caae-c4cf-4594-d91f-af096a87501c"
      },
      "source": [
        "# Initialize a circuit\n",
        "circuit = cirq.Circuit()\n",
        "# Apply a Hadamard operation on 5 qubits (one for every qubit)\n",
        "circuit.append(cirq.H(q) for q in cirq.LineQubit.range(5))\n",
        "# Apply CNOT operation on (0, 1), (1,2), (2,3), (3,4)\n",
        "circuit.append(cirq.CNOT(q, q+1) for q in cirq.LineQubit.range(4))\n",
        "# Apply SWAP (0, 4)\n",
        "circuit.append(cirq.SWAP(cirq.LineQubit(0), cirq.LineQubit(4)))\n",
        "# Apply Rotate X with pi/2 on any qubit\n",
        "circuit.append(cirq.rx(np.pi/2)(cirq.LineQubit(np.random.randint(5))))\n",
        "# Plot the circuit\n",
        "print(circuit)"
      ],
      "execution_count": null,
      "outputs": [
        {
          "output_type": "stream",
          "text": [
            "0: ───H───@──────────────────────×───\n",
            "          │                      │\n",
            "1: ───H───X───@──────────────────┼───\n",
            "              │                  │\n",
            "2: ───H───────X───@───Rx(0.5π)───┼───\n",
            "                  │              │\n",
            "3: ───H───────────X───@──────────┼───\n",
            "                      │          │\n",
            "4: ───H───────────────X──────────×───\n"
          ],
          "name": "stdout"
        }
      ]
    },
    {
      "cell_type": "markdown",
      "metadata": {
        "id": "zovsWuMobo-D"
      },
      "source": [
        "## 2). Create a circuit that is a series of small cirq.Rx rotations and plot the probability of measuring the state in the |0⟩ state"
      ]
    },
    {
      "cell_type": "code",
      "metadata": {
        "colab": {
          "base_uri": "https://localhost:8080/"
        },
        "id": "xTHvCHNBPBc6",
        "outputId": "24986da4-cc9d-4cec-a003-b83f0412b60b"
      },
      "source": [
        "# Initialize a circuit\n",
        "circuit = cirq.Circuit()\n",
        "# Apply a series of small cirq.Rx rotations\n",
        "rotation_angles = np.random.random(5)/10  # small random numbers for the angle of rotation\n",
        "for i in range(5):\n",
        "    circuit.append(cirq.rx(rotation_angles[i])(cirq.LineQubit(0)))\n",
        "# Add a measurement at the end of the circuit\n",
        "circuit.append(cirq.measure(cirq.LineQubit(0), key='result'))\n",
        "\n",
        "print(circuit)"
      ],
      "execution_count": null,
      "outputs": [
        {
          "output_type": "stream",
          "text": [
            "0: ───Rx(0.019π)───Rx(0.002π)───Rx(0.014π)───Rx(0.017π)───Rx(0.027π)───M('result')───\n"
          ],
          "name": "stdout"
        }
      ]
    },
    {
      "cell_type": "code",
      "metadata": {
        "colab": {
          "base_uri": "https://localhost:8080/",
          "height": 283
        },
        "id": "7diuiL7ueLMW",
        "outputId": "5dd57fac-0e96-47c6-b03c-d2dd83e0dfcb"
      },
      "source": [
        "# Initialize simulator\n",
        "s=cirq.Simulator()\n",
        "# Sample the circuit with 1000 shots\n",
        "samples=s.run(circuit, repetitions=1000)\n",
        "# Plot the probability of measuring the state in the |0⟩ state\n",
        "print(\"The probability of measuring the state in the |0⟩ state:\", samples.histogram(key=\"result\")[0]/1000)\n",
        "data = samples.measurements['result'].reshape(1000,)\n",
        "d = np.diff(np.unique(data)).min()\n",
        "left_of_first_bin = data.min() - float(d)/2\n",
        "right_of_last_bin = data.max() + float(d)/2\n",
        "plt.hist(data, np.arange(left_of_first_bin, right_of_last_bin + d, d), rwidth=0.1)\n",
        "plt.show()"
      ],
      "execution_count": null,
      "outputs": [
        {
          "output_type": "stream",
          "text": [
            "The probability of measuring the state in the |0⟩ state: 0.989\n"
          ],
          "name": "stdout"
        },
        {
          "output_type": "display_data",
          "data": {
            "image/png": "[encoded data removed]",
            "text/plain": [
              "<Figure size 432x288 with 1 Axes>"
            ]
          },
          "metadata": {
            "tags": [],
            "needs_background": "light"
          }
        }
      ]
    }
  ]
}