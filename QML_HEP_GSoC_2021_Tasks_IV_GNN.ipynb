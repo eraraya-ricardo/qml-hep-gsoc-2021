{
  "nbformat": 4,
  "nbformat_minor": 0,
  "metadata": {
    "colab": {
      "name": "QML-HEP GSoC 2021 Tasks IV GNN.ipynb",
      "provenance": [],
      "collapsed_sections": []
    },
    "kernelspec": {
      "name": "python3",
      "display_name": "Python 3"
    },
    "language_info": {
      "name": "python"
    }
  },
  "cells": [
    {
      "cell_type": "code",
      "metadata": {
        "id": "GTRtFvj-jhmn"
      },
      "source": [
        "import numpy as np\n",
        "import tensorflow as tf\n",
        "from tensorflow import keras\n",
        "\n",
        "# visualization tools\n",
        "%matplotlib inline\n",
        "import matplotlib.pyplot as plt"
      ],
      "execution_count": null,
      "outputs": []
    },
    {
      "cell_type": "code",
      "metadata": {
        "id": "I9nD1ES_u8Uw"
      },
      "source": [
        "import logging\n",
        "logging.basicConfig(level=logging.INFO, format='[%(asctime)s] %(levelname)s: %(message)s')"
      ],
      "execution_count": null,
      "outputs": []
    },
    {
      "cell_type": "code",
      "metadata": {
        "colab": {
          "base_uri": "https://localhost:8080/"
        },
        "id": "4Ub_EjJnrg7N",
        "outputId": "850cb5f9-be65-49ac-9827-5c4d2b73321e"
      },
      "source": [
        "# Mount the Google Drive as folder directory for the notebook\n",
        "from google.colab import drive\n",
        "drive.mount('/content/drive')"
      ],
      "execution_count": null,
      "outputs": [
        {
          "output_type": "stream",
          "text": [
            "Mounted at /content/drive\n"
          ],
          "name": "stdout"
        }
      ]
    },
    {
      "cell_type": "code",
      "metadata": {
        "colab": {
          "base_uri": "https://localhost:8080/"
        },
        "id": "Yo2O1exsHTXG",
        "outputId": "69b1140c-59cf-4299-b368-4fedf9f1ee41"
      },
      "source": [
        "%cd '/content/drive/MyDrive/Projects/GSoC 2021'"
      ],
      "execution_count": null,
      "outputs": [
        {
          "output_type": "stream",
          "text": [
            "/content/drive/MyDrive/Projects/GSoC 2021\n"
          ],
          "name": "stdout"
        }
      ]
    },
    {
      "cell_type": "code",
      "metadata": {
        "id": "g-jxhzu1oEHG"
      },
      "source": [
        "# Note: please change the current directory to the correct directory of the .py file if you want to run this code\n",
        "from tf_keras_model import get_particle_net, get_particle_net_lite\n",
        "from tf_keras_model_static import get_particle_net_static, get_particle_net_lite_static"
      ],
      "execution_count": null,
      "outputs": []
    },
    {
      "cell_type": "markdown",
      "metadata": {
        "id": "ewn3h8qtAnCF"
      },
      "source": [
        "# Task IV: Classical Graph Neural Network (GNN) Part\n",
        "\n",
        "Problem statement: use ParticleNet’s data for Quark/Gluon jet classification[1], then **choose 2 Graph-based architectures of your choice to classify jets as being quarks (label = 1) or gluons (label = 0)**. **Provide a description on what considerations you have taken to project this point-cloud dataset to a set of interconnected nodes and edges**. **Discuss the resulting performance of the 2 chosen architectures**."
      ]
    },
    {
      "cell_type": "markdown",
      "metadata": {
        "id": "vw-OTcxJzFfu"
      },
      "source": [
        "## The Approach Used to Tackle the Problem"
      ]
    },
    {
      "cell_type": "markdown",
      "metadata": {
        "id": "n0ZPewoTQqri"
      },
      "source": [
        "### Dataset and Hardware Limitation\n",
        "Since Google Colab offers a limited ammount of RAM, this project only used the first 9 files of data (without charm and bottom jets) from reference [1]. This is also need to be done considering limited ammount of time available for the training process. Each file has 100k jets, exactly 50k quark and 50k gluon jets, randomly sorted (label imbalance is not an issue). Every jet in the file contains $M$ x $F$ data where $M$ is the maximum number of multiplicity of the jets in the file and $F$ is the number of each particle's features (pt, rapidity, azimuthal angle, and pdgid/Particle Data Group ID). So, in total, 900k jets are used in this project."
      ]
    },
    {
      "cell_type": "markdown",
      "metadata": {
        "id": "AoOZCP4AQugv"
      },
      "source": [
        "### Point-cloud - to - Graph Projection and Choosing Graph-based Architectures"
      ]
    },
    {
      "cell_type": "markdown",
      "metadata": {
        "id": "7cxDRn1TPx5g"
      },
      "source": [
        "How to project the point-cloud dataset to graphs is strongly interdependent with the network architectures. This project will follow mainly the reference [2] but with some changes to explore things that is not yet explored in the paper."
      ]
    },
    {
      "cell_type": "markdown",
      "metadata": {
        "id": "JhfM5BPdT4xA"
      },
      "source": [
        "ParticleNet, a state-of-the-art graph-based network architecture recently published, proposed to treat a jet as an unordered set of its constituent particles or \"particle cloud\"[2]. One main advantage of using this representation is that incorporating additional nonadditive information of the particles, like the pdgid, is straightforward. It is proven in reference [2] that including the pdgid data in the model's training improved the model's performance."
      ]
    },
    {
      "cell_type": "markdown",
      "metadata": {
        "id": "udStPkElR7ao"
      },
      "source": [
        "The paper utilized Dynamic Graph Convolutional Neural Network (DGCNN) with \"EdgeConv\" operation as its unique selling point[3]. This operation treats every particle in the particle cloud as a vertice in a graph with its k nearest neighboring particles as the edges, explicitly exploits the local spatial structure of particle clouds."
      ]
    },
    {
      "cell_type": "markdown",
      "metadata": {
        "id": "Kz2AzM0YNMxq"
      },
      "source": [
        "![edgeconv block.jpg](data:image/jpeg;base64,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)\n",
        "\n",
        "**Figure 1**: The inner structure of an EdgeConv block[2]."
      ]
    },
    {
      "cell_type": "markdown",
      "metadata": {
        "id": "GSmc7gD3T1na"
      },
      "source": [
        "Equation below defines an EdgeConv operation on a point $x_{i}$ used in reference [2]\n",
        "$$\n",
        "\\boldsymbol{x}_{i}^{\\prime}=\\frac{1}{k}\\sum_{j=1}^{k} h_{\\Theta}\\left(\\boldsymbol{x}_{i}, \\boldsymbol{x}_{i_{j}}-\\boldsymbol{x}_{i}\\right)\n",
        "$$\n",
        "where $\\boldsymbol{x}_{i}$ is the feature vector of the point $x_{i}$, $\\boldsymbol{x}_{i_{j}}$ denoted the feature vector of the k nearest neighboring points of point $x_{i}$ with index $j$, and $h_{\\Theta}$ is a multilayer perceptron whose parameters are shared between all edges. One time of this operation application is depicted as an \"EdgeConv block\" in the **Figure 2**.\n",
        "\n",
        "Reference [2] also explain how they update the graph \"dynamically\" along the network. The set of k nearest neighboring particles for every particle is updated at the beginning of every EdgeConv block. The first block will use the rapidity and azimuthal angle to determine the distances, while the rest of the block will use the learned feature vectors from the previous block as coordinates."
      ]
    },
    {
      "cell_type": "markdown",
      "metadata": {
        "id": "5loOEcgQOgyG"
      },
      "source": [
        "![particlenet-lite.jpg](data:image/jpeg;base64,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)\n",
        "\n",
        "**Figure 2**: ParticleNet-Lite networks architecture[2]. $k$ is the number of nearest neighboring particles, and $C$ = ($C_{1}$, $C_{2}$, $C_{3}$) is the number of channels."
      ]
    },
    {
      "cell_type": "markdown",
      "metadata": {
        "id": "Drucup7kT6F7"
      },
      "source": [
        "After reading reference [2] and its [code implementation](https://github.com/hqucms/ParticleNet), there are three important parts which in my opinion are keys in obtaining the state-of-the-art performance achieved by the paper:\n",
        "1. The EdgeConv operation itself that exploits the local spatial structure of particle clouds.\n",
        "2. The \"dynamic\" aspect of updating the graph by changing the set of k nearest neighboring particles for every particle along the network.\n",
        "3. The particle cloud representation."
      ]
    },
    {
      "cell_type": "markdown",
      "metadata": {
        "id": "RM6SJEQoZoT9"
      },
      "source": [
        "I think it is interesting to explore which of them gives more significant improvement to the performance since the original paper does not discuss about this. Therefore, this project will follow the ParticleNet architecture implemented in reference [2] (the \"lite\" version will be used to shorten the training time needed) and compare it with the modified version that doesn't dynamically update the graph. Every EdgeConv block in this modified version will use the same set of nearest neighboring particles as the first block, which is to use the rapidity and azimuthal angle data in the dataset.\n",
        "\n",
        "By comparing the performance of these two architectures, we should be able to conclude the importance of the \"dynamic\" aspect in ParticleNet architecture, at least for the \"lite\" version."
      ]
    },
    {
      "cell_type": "markdown",
      "metadata": {
        "id": "GyoQJqN0PvpG"
      },
      "source": [
        "## Code Implementation"
      ]
    },
    {
      "cell_type": "markdown",
      "metadata": {
        "id": "kxjM01RLQ3ax"
      },
      "source": [
        "In this project, all features in the dataset (pt, rapidity, azimuthal angle and pdgid) will be used as the particle's features. The rapidity and azimuthal angle will be used to calculate the distance for k-NN."
      ]
    },
    {
      "cell_type": "markdown",
      "metadata": {
        "id": "Ke-o_bYfSQL8"
      },
      "source": [
        "Since each file have different value of $M$, all jets in every file will be padded with zeros to have the same size of $M$. The particles will then be masked with a \"mask\" array that gives information whether the particle is a real particle from the dataset or just a padded \"zero-particles\"."
      ]
    },
    {
      "cell_type": "markdown",
      "metadata": {
        "id": "_zOVO3pojKyz"
      },
      "source": [
        "### Load and Check the Dataset"
      ]
    },
    {
      "cell_type": "markdown",
      "metadata": {
        "id": "RVB6yZP5Tqxa"
      },
      "source": [
        "The function below will do the $M$ padding between two dataset files."
      ]
    },
    {
      "cell_type": "code",
      "metadata": {
        "id": "0s87xZoT8Rv6"
      },
      "source": [
        "def dataset_padding(X_1, X_2, y_1, y_2):\n",
        "    if X_1.shape[1] != X_2.shape[1]:\n",
        "        if X_1.shape[1] > X_2.shape[1]:\n",
        "            X_2 = np.concatenate((X_2,np.zeros((X_2.shape[0], X_1.shape[1]-X_2.shape[1], X_2.shape[2]))), axis=1)\n",
        "        else:\n",
        "            X_1 = np.concatenate((X_1,np.zeros((X_1.shape[0], X_2.shape[1]-X_1.shape[1], X_1.shape[2]))), axis=1)\n",
        "\n",
        "        X_1 = np.concatenate((X_1,X_2), axis=0)\n",
        "        y_1 = np.concatenate((y_1,y_2), axis=0)\n",
        "\n",
        "    return X_1, y_1"
      ],
      "execution_count": null,
      "outputs": []
    },
    {
      "cell_type": "markdown",
      "metadata": {
        "id": "fea6xmguT4_l"
      },
      "source": [
        "Let's load the first 9 files of the dataset from reference [1]. Since there are two classes to be classified, quarks (label = 1) or gluons (label = 0), and a softmax activation function is used at the end of the ParticleNet-Lite networks, the labels need to be transformed to one-hot format."
      ]
    },
    {
      "cell_type": "code",
      "metadata": {
        "id": "AhEgXDn6ApSN",
        "colab": {
          "base_uri": "https://localhost:8080/"
        },
        "outputId": "38784752-3bb4-4c38-e97b-856729b12e77"
      },
      "source": [
        "# Load the dataset\n",
        "# Note: please change the directory to the correct directory of the dataset if you want to run this code\n",
        "with np.load('./jet-data/QG_jets.npz') as data:\n",
        "    X_train = data[\"X\"]\n",
        "    y_train = data[\"y\"]\n",
        "    print(\"Dataset QG_jets.npz has been loaded.\")\n",
        "    \n",
        "for i in range(8):\n",
        "    with np.load('./jet-data/QG_jets_' + str(i+1) + '.npz') as data:\n",
        "        temp_X = data[\"X\"]\n",
        "        temp_y = data[\"y\"]\n",
        "        print(\"Dataset QG_jets_\" + str(i+1) + \".npz has been loaded.\")\n",
        "        X_train, y_train = dataset_padding(X_train, temp_X, y_train, temp_y)\n",
        "\n",
        "# Transform the labels to one-hot format\n",
        "y_train = tf.keras.utils.to_categorical(y_train)\n",
        "\n",
        "# Sanity check\n",
        "print(\"Whole dataset shape:\", X_train.shape, y_train.shape)"
      ],
      "execution_count": null,
      "outputs": [
        {
          "output_type": "stream",
          "text": [
            "Dataset QG_jets.npz has been loaded.\n",
            "Dataset QG_jets_1.npz has been loaded.\n",
            "Dataset QG_jets_2.npz has been loaded.\n",
            "Dataset QG_jets_3.npz has been loaded.\n",
            "Dataset QG_jets_4.npz has been loaded.\n",
            "Dataset QG_jets_5.npz has been loaded.\n",
            "Dataset QG_jets_6.npz has been loaded.\n",
            "Dataset QG_jets_7.npz has been loaded.\n",
            "Dataset QG_jets_8.npz has been loaded.\n",
            "Whole dataset shape: (900000, 142, 4) (900000, 2)\n"
          ],
          "name": "stdout"
        }
      ]
    },
    {
      "cell_type": "code",
      "metadata": {
        "id": "p6wbuQg4qYW1",
        "colab": {
          "base_uri": "https://localhost:8080/"
        },
        "outputId": "d884803d-05e5-456a-ac89-1d82d06d18ff"
      },
      "source": [
        "num_samples = X_train.shape[0]\n",
        "num_particles = X_train.shape[1]\n",
        "num_features = X_train.shape[2]\n",
        "\n",
        "print(\"Total number of samples:\", num_samples)\n",
        "print(\"Maximum number of particles in a jet:\", num_particles)\n",
        "print(\"Number of features:\", num_features)"
      ],
      "execution_count": null,
      "outputs": [
        {
          "output_type": "stream",
          "text": [
            "Total number of samples: 900000\n",
            "Maximum number of particles in a jet: 142\n",
            "Number of features: 4\n"
          ],
          "name": "stdout"
        }
      ]
    },
    {
      "cell_type": "markdown",
      "metadata": {
        "id": "l5f1NOpdEAGx"
      },
      "source": [
        "### Preprocess the Dataset"
      ]
    },
    {
      "cell_type": "markdown",
      "metadata": {
        "id": "0VFMXX7UWAGG"
      },
      "source": [
        "Split 80% of the data for training set, 10% for validation set, and 10% for testing set as suggested in the reference [2]."
      ]
    },
    {
      "cell_type": "code",
      "metadata": {
        "colab": {
          "base_uri": "https://localhost:8080/"
        },
        "id": "3dqSXXerBSaF",
        "outputId": "2aafa6f3-292b-470e-8cf9-4aaba1a4174d"
      },
      "source": [
        "from sklearn.utils import shuffle\n",
        "from sklearn.model_selection import train_test_split\n",
        "\n",
        "X_train, y_train = shuffle(X_train, y_train, random_state=2021)\n",
        "X_train, X_val, y_train, y_val = train_test_split(X_train, y_train, test_size=0.2, random_state=2021)\n",
        "X_val, X_test, y_val, y_test = train_test_split(X_val, y_val, test_size=0.5, random_state=2021)\n",
        "\n",
        "# Sanity check\n",
        "print(\"Train dataset shape:\", X_train.shape, y_train.shape)\n",
        "print(\"Val dataset shape:\", X_val.shape, y_val.shape)\n",
        "print(\"Test dataset shape:\", X_test.shape, y_test.shape)"
      ],
      "execution_count": null,
      "outputs": [
        {
          "output_type": "stream",
          "text": [
            "Train dataset shape: (720000, 142, 4) (720000, 2)\n",
            "Val dataset shape: (90000, 142, 4) (90000, 2)\n",
            "Test dataset shape: (90000, 142, 4) (90000, 2)\n"
          ],
          "name": "stdout"
        }
      ]
    },
    {
      "cell_type": "markdown",
      "metadata": {
        "id": "9Dx5KFTXWR4t"
      },
      "source": [
        "Create a dictionary that contains the \"points\", \"features\", and \"mask\" array for training set, validation set, and testing set.\n",
        "\n",
        "- \"points\" contains only rapidity and azimuthal angle value, this will be used to calculate distance for k-NN.\n",
        "- \"features\" contains all the features (pt, rapidity, azimuthal angle), this will be used as the particle's features for training.\n",
        "- \"mask\" gives information whether the particle is a real particle from the dataset or just a padded \"zero-particles\" (taking value of zero for the padded positions)."
      ]
    },
    {
      "cell_type": "code",
      "metadata": {
        "id": "Rhx9_Uywpt2o"
      },
      "source": [
        "train_dict = {\n",
        "    # the coordinates of the particles in the (eta, phi) space (shape=num_samples,num_particles,2)\n",
        "    'points': X_train[:, :, 1:3],\n",
        "    # the features of the particles (shape=num_samples,num_particles,num_features)\n",
        "    'features': X_train,\n",
        "    # a mask array, taking a value of 0 for padded positions (shape=num_samples,num_particles,1)\n",
        "    'mask': np.sum(X_train, axis=2).reshape(len(X_train), num_particles, 1)\n",
        "}\n",
        "\n",
        "val_dict = {\n",
        "    # the coordinates of the particles in the (eta, phi) space (shape=num_samples,num_particles,2)\n",
        "    'points': X_val[:, :, 1:3],\n",
        "    # the features of the particles (shape=num_samples,num_particles,num_features)\n",
        "    'features': X_val,\n",
        "    # a mask array, taking a value of 0 for padded positions (shape=num_samples,num_particles,1)\n",
        "    'mask': np.sum(X_val, axis=2).reshape(len(X_val), num_particles, 1)\n",
        "}\n",
        "\n",
        "test_dict = {\n",
        "    # the coordinates of the particles in the (eta, phi) space (shape=num_samples,num_particles,2)\n",
        "    'points': X_test[:, :, 1:3],\n",
        "    # the features of the particles (shape=num_samples,num_particles,num_features)\n",
        "    'features': X_test,\n",
        "    # a mask array, taking a value of 0 for padded positions (shape=num_samples,num_particles,1)\n",
        "    'mask': np.sum(X_test, axis=2).reshape(len(X_test), num_particles, 1)\n",
        "}"
      ],
      "execution_count": null,
      "outputs": []
    },
    {
      "cell_type": "markdown",
      "metadata": {
        "id": "VDa-l0dWItYX"
      },
      "source": [
        "### Dynamic Graph CNN"
      ]
    },
    {
      "cell_type": "markdown",
      "metadata": {
        "id": "klu1giYuXzW9"
      },
      "source": [
        "Now let's start first with the \"dynamic\" version, the original architecture proposed in reference [2]."
      ]
    },
    {
      "cell_type": "markdown",
      "metadata": {
        "id": "2CRE93YxIgRh"
      },
      "source": [
        "#### Initialize and Train the Model"
      ]
    },
    {
      "cell_type": "markdown",
      "metadata": {
        "id": "VSUNNj5uj7uv"
      },
      "source": [
        "Initialize the dynamic/original version of the ParticleNet-Lite model."
      ]
    },
    {
      "cell_type": "code",
      "metadata": {
        "id": "Ht28Rpr_tYm6",
        "colab": {
          "base_uri": "https://localhost:8080/"
        },
        "outputId": "312e19b8-ed1d-4b0d-e5eb-ada7165f0069"
      },
      "source": [
        "model_type = 'particle_net_lite'\n",
        "num_classes = 2\n",
        "input_shapes = {k:train_dict[k].shape[1:] for k in train_dict}\n",
        "\n",
        "if 'lite' in model_type:\n",
        "    model_dynamic = get_particle_net_lite(num_classes, input_shapes)\n",
        "else:\n",
        "    model_dynamic = get_particle_net(num_classes, input_shapes)\n",
        "\n",
        "print(\"Input shapes:\", input_shapes)"
      ],
      "execution_count": null,
      "outputs": [
        {
          "output_type": "stream",
          "text": [
            "Input shapes: {'points': (142, 2), 'features': (142, 4), 'mask': (142, 1)}\n"
          ],
          "name": "stdout"
        }
      ]
    },
    {
      "cell_type": "markdown",
      "metadata": {
        "id": "CuEcC1JvYNjH"
      },
      "source": [
        "The hyperparameters ($k$, $C$, batch size, and learning rate) used in this project will be kept the same as the original paper so the comparison will be fair, both for the \"dynamic\" and \"static\" version.\n",
        "\n",
        "The number of epochs is chosen as 20 based on trial and error. I found that the training and validation performance start to converge after about 15 epochs."
      ]
    },
    {
      "cell_type": "code",
      "metadata": {
        "id": "LkLIStO9uksK"
      },
      "source": [
        "# Training parameters\n",
        "batch_size = 1024 if 'lite' in model_type else 384\n",
        "epochs = 20"
      ],
      "execution_count": null,
      "outputs": []
    },
    {
      "cell_type": "code",
      "metadata": {
        "id": "Xghu-aWwuw74"
      },
      "source": [
        "def lr_schedule(epoch):\n",
        "    lr = 1e-3\n",
        "    if epoch > 10:\n",
        "        lr *= 0.1\n",
        "    elif epoch > 20:\n",
        "        lr *= 0.01\n",
        "    logging.info('Learning rate: %f'%lr)\n",
        "    return lr"
      ],
      "execution_count": null,
      "outputs": []
    },
    {
      "cell_type": "code",
      "metadata": {
        "colab": {
          "base_uri": "https://localhost:8080/"
        },
        "id": "0tlwVmKBuzCn",
        "outputId": "52d761fd-eb69-4d89-bd35-0192d86d6940"
      },
      "source": [
        "model_dynamic.compile(loss='categorical_crossentropy',\n",
        "              optimizer=keras.optimizers.Adam(learning_rate=lr_schedule(0)),\n",
        "              metrics=['accuracy', tf.keras.metrics.AUC()])\n",
        "model_dynamic.summary()"
      ],
      "execution_count": null,
      "outputs": [
        {
          "output_type": "stream",
          "text": [
            "[2021-03-21 13:50:31,173] INFO: Learning rate: 0.001000\n"
          ],
          "name": "stderr"
        },
        {
          "output_type": "stream",
          "text": [
            "Model: \"ParticleNet_Lite_Dynamic\"\n",
            "__________________________________________________________________________________________________\n",
            "Layer (type)                    Output Shape         Param #     Connected to                     \n",
            "==================================================================================================\n",
            "mask (InputLayer)               [(None, 142, 1)]     0                                            \n",
            "__________________________________________________________________________________________________\n",
            "tf.math.not_equal_1 (TFOpLambda (None, 142, 1)       0           mask[0][0]                       \n",
            "__________________________________________________________________________________________________\n",
            "tf.cast_2 (TFOpLambda)          (None, 142, 1)       0           tf.math.not_equal_1[0][0]        \n",
            "__________________________________________________________________________________________________\n",
            "tf.math.equal_1 (TFOpLambda)    (None, 142, 1)       0           tf.cast_2[0][0]                  \n",
            "__________________________________________________________________________________________________\n",
            "tf.cast_3 (TFOpLambda)          (None, 142, 1)       0           tf.math.equal_1[0][0]            \n",
            "__________________________________________________________________________________________________\n",
            "tf.math.multiply_5 (TFOpLambda) (None, 142, 1)       0           tf.cast_3[0][0]                  \n",
            "__________________________________________________________________________________________________\n",
            "points (InputLayer)             [(None, 142, 2)]     0                                            \n",
            "__________________________________________________________________________________________________\n",
            "tf.math.add_2 (TFOpLambda)      (None, 142, 2)       0           tf.math.multiply_5[0][0]         \n",
            "                                                                 points[0][0]                     \n",
            "__________________________________________________________________________________________________\n",
            "features (InputLayer)           [(None, 142, 4)]     0                                            \n",
            "__________________________________________________________________________________________________\n",
            "tf.compat.v1.transpose_2 (TFOpL (None, 2, 142)       0           tf.math.add_2[0][0]              \n",
            "__________________________________________________________________________________________________\n",
            "tf.expand_dims_7 (TFOpLambda)   (None, 142, 1, 4)    0           features[0][0]                   \n",
            "__________________________________________________________________________________________________\n",
            "tf.math.multiply_6 (TFOpLambda) (None, 142, 2)       0           tf.math.add_2[0][0]              \n",
            "                                                                 tf.math.add_2[0][0]              \n",
            "__________________________________________________________________________________________________\n",
            "tf.linalg.matmul_1 (TFOpLambda) (None, 142, 142)     0           tf.math.add_2[0][0]              \n",
            "                                                                 tf.compat.v1.transpose_2[0][0]   \n",
            "__________________________________________________________________________________________________\n",
            "tf.math.multiply_7 (TFOpLambda) (None, 142, 2)       0           tf.math.add_2[0][0]              \n",
            "                                                                 tf.math.add_2[0][0]              \n",
            "__________________________________________________________________________________________________\n",
            "ParticleNet_fts_bn (BatchNormal (None, 142, 1, 4)    16          tf.expand_dims_7[0][0]           \n",
            "__________________________________________________________________________________________________\n",
            "tf.math.reduce_sum_2 (TFOpLambd (None, 142, 1)       0           tf.math.multiply_6[0][0]         \n",
            "__________________________________________________________________________________________________\n",
            "tf.math.multiply_8 (TFOpLambda) (None, 142, 142)     0           tf.linalg.matmul_1[0][0]         \n",
            "__________________________________________________________________________________________________\n",
            "tf.math.reduce_sum_3 (TFOpLambd (None, 142, 1)       0           tf.math.multiply_7[0][0]         \n",
            "__________________________________________________________________________________________________\n",
            "tf.compat.v1.squeeze_3 (TFOpLam (None, 142, 4)       0           ParticleNet_fts_bn[0][0]         \n",
            "__________________________________________________________________________________________________\n",
            "tf.math.subtract_3 (TFOpLambda) (None, 142, 142)     0           tf.math.reduce_sum_2[0][0]       \n",
            "                                                                 tf.math.multiply_8[0][0]         \n",
            "__________________________________________________________________________________________________\n",
            "tf.compat.v1.transpose_3 (TFOpL (None, 1, 142)       0           tf.math.reduce_sum_3[0][0]       \n",
            "__________________________________________________________________________________________________\n",
            "tf.compat.v1.shape_2 (TFOpLambd (3,)                 0           tf.compat.v1.squeeze_3[0][0]     \n",
            "__________________________________________________________________________________________________\n",
            "tf.__operators__.add_3 (TFOpLam (None, 142, 142)     0           tf.math.subtract_3[0][0]         \n",
            "                                                                 tf.compat.v1.transpose_3[0][0]   \n",
            "__________________________________________________________________________________________________\n",
            "tf.__operators__.getitem_4 (Sli ()                   0           tf.compat.v1.shape_2[0][0]       \n",
            "__________________________________________________________________________________________________\n",
            "tf.math.negative_1 (TFOpLambda) (None, 142, 142)     0           tf.__operators__.add_3[0][0]     \n",
            "__________________________________________________________________________________________________\n",
            "tf.range_2 (TFOpLambda)         (None,)              0           tf.__operators__.getitem_4[0][0] \n",
            "__________________________________________________________________________________________________\n",
            "tf.math.top_k_1 (TFOpLambda)    TopKV2(values=(None, 0           tf.math.negative_1[0][0]         \n",
            "__________________________________________________________________________________________________\n",
            "tf.reshape_2 (TFOpLambda)       (None, 1, 1, 1)      0           tf.range_2[0][0]                 \n",
            "__________________________________________________________________________________________________\n",
            "tf.__operators__.getitem_3 (Sli (None, 142, 7)       0           tf.math.top_k_1[0][1]            \n",
            "__________________________________________________________________________________________________\n",
            "tf.tile_4 (TFOpLambda)          (None, 142, 7, 1)    0           tf.reshape_2[0][0]               \n",
            "__________________________________________________________________________________________________\n",
            "tf.expand_dims_8 (TFOpLambda)   (None, 142, 7, 1)    0           tf.__operators__.getitem_3[0][0] \n",
            "__________________________________________________________________________________________________\n",
            "tf.expand_dims_9 (TFOpLambda)   (None, 142, 1, 4)    0           tf.compat.v1.squeeze_3[0][0]     \n",
            "__________________________________________________________________________________________________\n",
            "tf.concat_4 (TFOpLambda)        (None, 142, 7, 2)    0           tf.tile_4[0][0]                  \n",
            "                                                                 tf.expand_dims_8[0][0]           \n",
            "__________________________________________________________________________________________________\n",
            "tf.tile_5 (TFOpLambda)          (None, 142, 7, 4)    0           tf.expand_dims_9[0][0]           \n",
            "__________________________________________________________________________________________________\n",
            "tf.compat.v1.gather_nd_2 (TFOpL (None, 142, 7, 4)    0           tf.compat.v1.squeeze_3[0][0]     \n",
            "                                                                 tf.concat_4[0][0]                \n",
            "__________________________________________________________________________________________________\n",
            "tf.math.subtract_4 (TFOpLambda) (None, 142, 7, 4)    0           tf.compat.v1.gather_nd_2[0][0]   \n",
            "                                                                 tf.tile_5[0][0]                  \n",
            "__________________________________________________________________________________________________\n",
            "tf.concat_5 (TFOpLambda)        (None, 142, 7, 8)    0           tf.tile_5[0][0]                  \n",
            "                                                                 tf.math.subtract_4[0][0]         \n",
            "__________________________________________________________________________________________________\n",
            "ParticleNet_EdgeConv0_conv0 (Co (None, 142, 7, 32)   256         tf.concat_5[0][0]                \n",
            "__________________________________________________________________________________________________\n",
            "ParticleNet_EdgeConv0_bn0 (Batc (None, 142, 7, 32)   128         ParticleNet_EdgeConv0_conv0[0][0]\n",
            "__________________________________________________________________________________________________\n",
            "ParticleNet_EdgeConv0_act0 (Act (None, 142, 7, 32)   0           ParticleNet_EdgeConv0_bn0[0][0]  \n",
            "__________________________________________________________________________________________________\n",
            "ParticleNet_EdgeConv0_conv1 (Co (None, 142, 7, 32)   1024        ParticleNet_EdgeConv0_act0[0][0] \n",
            "__________________________________________________________________________________________________\n",
            "ParticleNet_EdgeConv0_bn1 (Batc (None, 142, 7, 32)   128         ParticleNet_EdgeConv0_conv1[0][0]\n",
            "__________________________________________________________________________________________________\n",
            "ParticleNet_EdgeConv0_act1 (Act (None, 142, 7, 32)   0           ParticleNet_EdgeConv0_bn1[0][0]  \n",
            "__________________________________________________________________________________________________\n",
            "tf.expand_dims_10 (TFOpLambda)  (None, 142, 1, 4)    0           tf.compat.v1.squeeze_3[0][0]     \n",
            "__________________________________________________________________________________________________\n",
            "ParticleNet_EdgeConv0_conv2 (Co (None, 142, 7, 32)   1024        ParticleNet_EdgeConv0_act1[0][0] \n",
            "__________________________________________________________________________________________________\n",
            "ParticleNet_EdgeConv0_sc_conv ( (None, 142, 1, 32)   128         tf.expand_dims_10[0][0]          \n",
            "__________________________________________________________________________________________________\n",
            "ParticleNet_EdgeConv0_bn2 (Batc (None, 142, 7, 32)   128         ParticleNet_EdgeConv0_conv2[0][0]\n",
            "__________________________________________________________________________________________________\n",
            "ParticleNet_EdgeConv0_sc_bn (Ba (None, 142, 1, 32)   128         ParticleNet_EdgeConv0_sc_conv[0][\n",
            "__________________________________________________________________________________________________\n",
            "ParticleNet_EdgeConv0_act2 (Act (None, 142, 7, 32)   0           ParticleNet_EdgeConv0_bn2[0][0]  \n",
            "__________________________________________________________________________________________________\n",
            "tf.compat.v1.squeeze_4 (TFOpLam (None, 142, 32)      0           ParticleNet_EdgeConv0_sc_bn[0][0]\n",
            "__________________________________________________________________________________________________\n",
            "tf.math.reduce_mean_3 (TFOpLamb (None, 142, 32)      0           ParticleNet_EdgeConv0_act2[0][0] \n",
            "__________________________________________________________________________________________________\n",
            "tf.__operators__.add_4 (TFOpLam (None, 142, 32)      0           tf.compat.v1.squeeze_4[0][0]     \n",
            "                                                                 tf.math.reduce_mean_3[0][0]      \n",
            "__________________________________________________________________________________________________\n",
            "ParticleNet_EdgeConv0_sc_act (A (None, 142, 32)      0           tf.__operators__.add_4[0][0]     \n",
            "__________________________________________________________________________________________________\n",
            "tf.math.add_3 (TFOpLambda)      (None, 142, 32)      0           tf.math.multiply_5[0][0]         \n",
            "                                                                 ParticleNet_EdgeConv0_sc_act[0][0\n",
            "__________________________________________________________________________________________________\n",
            "tf.compat.v1.transpose_4 (TFOpL (None, 32, 142)      0           tf.math.add_3[0][0]              \n",
            "__________________________________________________________________________________________________\n",
            "tf.math.multiply_9 (TFOpLambda) (None, 142, 32)      0           tf.math.add_3[0][0]              \n",
            "                                                                 tf.math.add_3[0][0]              \n",
            "__________________________________________________________________________________________________\n",
            "tf.linalg.matmul_2 (TFOpLambda) (None, 142, 142)     0           tf.math.add_3[0][0]              \n",
            "                                                                 tf.compat.v1.transpose_4[0][0]   \n",
            "__________________________________________________________________________________________________\n",
            "tf.math.multiply_10 (TFOpLambda (None, 142, 32)      0           tf.math.add_3[0][0]              \n",
            "                                                                 tf.math.add_3[0][0]              \n",
            "__________________________________________________________________________________________________\n",
            "tf.math.reduce_sum_4 (TFOpLambd (None, 142, 1)       0           tf.math.multiply_9[0][0]         \n",
            "__________________________________________________________________________________________________\n",
            "tf.math.multiply_11 (TFOpLambda (None, 142, 142)     0           tf.linalg.matmul_2[0][0]         \n",
            "__________________________________________________________________________________________________\n",
            "tf.math.reduce_sum_5 (TFOpLambd (None, 142, 1)       0           tf.math.multiply_10[0][0]        \n",
            "__________________________________________________________________________________________________\n",
            "tf.math.subtract_5 (TFOpLambda) (None, 142, 142)     0           tf.math.reduce_sum_4[0][0]       \n",
            "                                                                 tf.math.multiply_11[0][0]        \n",
            "__________________________________________________________________________________________________\n",
            "tf.compat.v1.transpose_5 (TFOpL (None, 1, 142)       0           tf.math.reduce_sum_5[0][0]       \n",
            "__________________________________________________________________________________________________\n",
            "tf.compat.v1.shape_3 (TFOpLambd (3,)                 0           ParticleNet_EdgeConv0_sc_act[0][0\n",
            "__________________________________________________________________________________________________\n",
            "tf.__operators__.add_5 (TFOpLam (None, 142, 142)     0           tf.math.subtract_5[0][0]         \n",
            "                                                                 tf.compat.v1.transpose_5[0][0]   \n",
            "__________________________________________________________________________________________________\n",
            "tf.__operators__.getitem_6 (Sli ()                   0           tf.compat.v1.shape_3[0][0]       \n",
            "__________________________________________________________________________________________________\n",
            "tf.math.negative_2 (TFOpLambda) (None, 142, 142)     0           tf.__operators__.add_5[0][0]     \n",
            "__________________________________________________________________________________________________\n",
            "tf.range_3 (TFOpLambda)         (None,)              0           tf.__operators__.getitem_6[0][0] \n",
            "__________________________________________________________________________________________________\n",
            "tf.math.top_k_2 (TFOpLambda)    TopKV2(values=(None, 0           tf.math.negative_2[0][0]         \n",
            "__________________________________________________________________________________________________\n",
            "tf.reshape_3 (TFOpLambda)       (None, 1, 1, 1)      0           tf.range_3[0][0]                 \n",
            "__________________________________________________________________________________________________\n",
            "tf.__operators__.getitem_5 (Sli (None, 142, 7)       0           tf.math.top_k_2[0][1]            \n",
            "__________________________________________________________________________________________________\n",
            "tf.tile_6 (TFOpLambda)          (None, 142, 7, 1)    0           tf.reshape_3[0][0]               \n",
            "__________________________________________________________________________________________________\n",
            "tf.expand_dims_11 (TFOpLambda)  (None, 142, 7, 1)    0           tf.__operators__.getitem_5[0][0] \n",
            "__________________________________________________________________________________________________\n",
            "tf.expand_dims_12 (TFOpLambda)  (None, 142, 1, 32)   0           ParticleNet_EdgeConv0_sc_act[0][0\n",
            "__________________________________________________________________________________________________\n",
            "tf.concat_6 (TFOpLambda)        (None, 142, 7, 2)    0           tf.tile_6[0][0]                  \n",
            "                                                                 tf.expand_dims_11[0][0]          \n",
            "__________________________________________________________________________________________________\n",
            "tf.tile_7 (TFOpLambda)          (None, 142, 7, 32)   0           tf.expand_dims_12[0][0]          \n",
            "__________________________________________________________________________________________________\n",
            "tf.compat.v1.gather_nd_3 (TFOpL (None, 142, 7, 32)   0           ParticleNet_EdgeConv0_sc_act[0][0\n",
            "                                                                 tf.concat_6[0][0]                \n",
            "__________________________________________________________________________________________________\n",
            "tf.math.subtract_6 (TFOpLambda) (None, 142, 7, 32)   0           tf.compat.v1.gather_nd_3[0][0]   \n",
            "                                                                 tf.tile_7[0][0]                  \n",
            "__________________________________________________________________________________________________\n",
            "tf.concat_7 (TFOpLambda)        (None, 142, 7, 64)   0           tf.tile_7[0][0]                  \n",
            "                                                                 tf.math.subtract_6[0][0]         \n",
            "__________________________________________________________________________________________________\n",
            "ParticleNet_EdgeConv1_conv0 (Co (None, 142, 7, 64)   4096        tf.concat_7[0][0]                \n",
            "__________________________________________________________________________________________________\n",
            "ParticleNet_EdgeConv1_bn0 (Batc (None, 142, 7, 64)   256         ParticleNet_EdgeConv1_conv0[0][0]\n",
            "__________________________________________________________________________________________________\n",
            "ParticleNet_EdgeConv1_act0 (Act (None, 142, 7, 64)   0           ParticleNet_EdgeConv1_bn0[0][0]  \n",
            "__________________________________________________________________________________________________\n",
            "ParticleNet_EdgeConv1_conv1 (Co (None, 142, 7, 64)   4096        ParticleNet_EdgeConv1_act0[0][0] \n",
            "__________________________________________________________________________________________________\n",
            "ParticleNet_EdgeConv1_bn1 (Batc (None, 142, 7, 64)   256         ParticleNet_EdgeConv1_conv1[0][0]\n",
            "__________________________________________________________________________________________________\n",
            "ParticleNet_EdgeConv1_act1 (Act (None, 142, 7, 64)   0           ParticleNet_EdgeConv1_bn1[0][0]  \n",
            "__________________________________________________________________________________________________\n",
            "tf.expand_dims_13 (TFOpLambda)  (None, 142, 1, 32)   0           ParticleNet_EdgeConv0_sc_act[0][0\n",
            "__________________________________________________________________________________________________\n",
            "ParticleNet_EdgeConv1_conv2 (Co (None, 142, 7, 64)   4096        ParticleNet_EdgeConv1_act1[0][0] \n",
            "__________________________________________________________________________________________________\n",
            "ParticleNet_EdgeConv1_sc_conv ( (None, 142, 1, 64)   2048        tf.expand_dims_13[0][0]          \n",
            "__________________________________________________________________________________________________\n",
            "ParticleNet_EdgeConv1_bn2 (Batc (None, 142, 7, 64)   256         ParticleNet_EdgeConv1_conv2[0][0]\n",
            "__________________________________________________________________________________________________\n",
            "ParticleNet_EdgeConv1_sc_bn (Ba (None, 142, 1, 64)   256         ParticleNet_EdgeConv1_sc_conv[0][\n",
            "__________________________________________________________________________________________________\n",
            "ParticleNet_EdgeConv1_act2 (Act (None, 142, 7, 64)   0           ParticleNet_EdgeConv1_bn2[0][0]  \n",
            "__________________________________________________________________________________________________\n",
            "tf.compat.v1.squeeze_5 (TFOpLam (None, 142, 64)      0           ParticleNet_EdgeConv1_sc_bn[0][0]\n",
            "__________________________________________________________________________________________________\n",
            "tf.math.reduce_mean_4 (TFOpLamb (None, 142, 64)      0           ParticleNet_EdgeConv1_act2[0][0] \n",
            "__________________________________________________________________________________________________\n",
            "tf.__operators__.add_6 (TFOpLam (None, 142, 64)      0           tf.compat.v1.squeeze_5[0][0]     \n",
            "                                                                 tf.math.reduce_mean_4[0][0]      \n",
            "__________________________________________________________________________________________________\n",
            "ParticleNet_EdgeConv1_sc_act (A (None, 142, 64)      0           tf.__operators__.add_6[0][0]     \n",
            "__________________________________________________________________________________________________\n",
            "tf.math.multiply_12 (TFOpLambda (None, 142, 64)      0           ParticleNet_EdgeConv1_sc_act[0][0\n",
            "                                                                 tf.cast_2[0][0]                  \n",
            "__________________________________________________________________________________________________\n",
            "tf.math.reduce_mean_5 (TFOpLamb (None, 64)           0           tf.math.multiply_12[0][0]        \n",
            "__________________________________________________________________________________________________\n",
            "dense_2 (Dense)                 (None, 128)          8320        tf.math.reduce_mean_5[0][0]      \n",
            "__________________________________________________________________________________________________\n",
            "dropout_1 (Dropout)             (None, 128)          0           dense_2[0][0]                    \n",
            "__________________________________________________________________________________________________\n",
            "dense_3 (Dense)                 (None, 2)            258         dropout_1[0][0]                  \n",
            "==================================================================================================\n",
            "Total params: 26,898\n",
            "Trainable params: 26,122\n",
            "Non-trainable params: 776\n",
            "__________________________________________________________________________________________________\n"
          ],
          "name": "stdout"
        }
      ]
    },
    {
      "cell_type": "code",
      "metadata": {
        "id": "G04Gbehgu3Ni"
      },
      "source": [
        "lr_scheduler = keras.callbacks.LearningRateScheduler(lr_schedule)\n",
        "progress_bar = keras.callbacks.ProgbarLogger()\n",
        "callbacks = [lr_scheduler, progress_bar]"
      ],
      "execution_count": null,
      "outputs": []
    },
    {
      "cell_type": "markdown",
      "metadata": {
        "id": "oBXgOvyzZLvR"
      },
      "source": [
        "Let's train the model."
      ]
    },
    {
      "cell_type": "code",
      "metadata": {
        "colab": {
          "base_uri": "https://localhost:8080/"
        },
        "id": "zeFdDHsxvXGN",
        "outputId": "4413fce3-2002-4b3e-aba3-78365abb35bd"
      },
      "source": [
        "history_dgcnn = model_dynamic.fit(train_dict, y_train,\n",
        "          batch_size=batch_size,\n",
        "          epochs=epochs,\n",
        "          validation_data=(val_dict, y_val),\n",
        "          shuffle=True,\n",
        "          callbacks=callbacks)"
      ],
      "execution_count": null,
      "outputs": [
        {
          "output_type": "stream",
          "text": [
            "[2021-03-21 13:51:05,137] INFO: Learning rate: 0.001000\n"
          ],
          "name": "stderr"
        },
        {
          "output_type": "stream",
          "text": [
            "Epoch 1/20\n",
            "704/704 [==============================] - 316s 449ms/sample - loss: 0.4792 - accuracy: 0.7773 - auc_1: 0.8512 - val_loss: 0.4369 - val_accuracy: 0.8062 - val_auc_1: 0.8795\n"
          ],
          "name": "stdout"
        },
        {
          "output_type": "stream",
          "text": [
            "[2021-03-21 13:56:21,263] INFO: Learning rate: 0.001000\n"
          ],
          "name": "stderr"
        },
        {
          "output_type": "stream",
          "text": [
            "Epoch 2/20\n",
            "704/704 [==============================] - 311s 442ms/sample - loss: 0.4384 - accuracy: 0.8045 - auc_1: 0.8787 - val_loss: 0.4578 - val_accuracy: 0.7900 - val_auc_1: 0.8676\n"
          ],
          "name": "stdout"
        },
        {
          "output_type": "stream",
          "text": [
            "[2021-03-21 14:01:32,468] INFO: Learning rate: 0.001000\n"
          ],
          "name": "stderr"
        },
        {
          "output_type": "stream",
          "text": [
            "Epoch 3/20\n",
            "704/704 [==============================] - 311s 442ms/sample - loss: 0.4286 - accuracy: 0.8098 - auc_1: 0.8846 - val_loss: 0.4352 - val_accuracy: 0.8074 - val_auc_1: 0.8833\n"
          ],
          "name": "stdout"
        },
        {
          "output_type": "stream",
          "text": [
            "[2021-03-21 14:06:43,541] INFO: Learning rate: 0.001000\n"
          ],
          "name": "stderr"
        },
        {
          "output_type": "stream",
          "text": [
            "Epoch 4/20\n",
            "704/704 [==============================] - 311s 442ms/sample - loss: 0.4237 - accuracy: 0.8124 - auc_1: 0.8874 - val_loss: 0.4152 - val_accuracy: 0.8180 - val_auc_1: 0.8923\n"
          ],
          "name": "stdout"
        },
        {
          "output_type": "stream",
          "text": [
            "[2021-03-21 14:11:54,555] INFO: Learning rate: 0.001000\n"
          ],
          "name": "stderr"
        },
        {
          "output_type": "stream",
          "text": [
            "Epoch 5/20\n",
            "704/704 [==============================] - 311s 442ms/sample - loss: 0.4192 - accuracy: 0.8150 - auc_1: 0.8900 - val_loss: 0.4231 - val_accuracy: 0.8163 - val_auc_1: 0.8914\n"
          ],
          "name": "stdout"
        },
        {
          "output_type": "stream",
          "text": [
            "[2021-03-21 14:17:05,453] INFO: Learning rate: 0.001000\n"
          ],
          "name": "stderr"
        },
        {
          "output_type": "stream",
          "text": [
            "Epoch 6/20\n",
            "704/704 [==============================] - 311s 442ms/sample - loss: 0.4179 - accuracy: 0.8158 - auc_1: 0.8907 - val_loss: 0.4101 - val_accuracy: 0.8215 - val_auc_1: 0.8962\n"
          ],
          "name": "stdout"
        },
        {
          "output_type": "stream",
          "text": [
            "[2021-03-21 14:22:16,460] INFO: Learning rate: 0.001000\n"
          ],
          "name": "stderr"
        },
        {
          "output_type": "stream",
          "text": [
            "Epoch 7/20\n",
            "704/704 [==============================] - 311s 442ms/sample - loss: 0.4146 - accuracy: 0.8173 - auc_1: 0.8925 - val_loss: 0.4169 - val_accuracy: 0.8157 - val_auc_1: 0.8916\n"
          ],
          "name": "stdout"
        },
        {
          "output_type": "stream",
          "text": [
            "[2021-03-21 14:27:27,432] INFO: Learning rate: 0.001000\n"
          ],
          "name": "stderr"
        },
        {
          "output_type": "stream",
          "text": [
            "Epoch 8/20\n",
            "704/704 [==============================] - 311s 442ms/sample - loss: 0.4145 - accuracy: 0.8175 - auc_1: 0.8926 - val_loss: 0.4096 - val_accuracy: 0.8194 - val_auc_1: 0.8953\n"
          ],
          "name": "stdout"
        },
        {
          "output_type": "stream",
          "text": [
            "[2021-03-21 14:32:38,470] INFO: Learning rate: 0.001000\n"
          ],
          "name": "stderr"
        },
        {
          "output_type": "stream",
          "text": [
            "Epoch 9/20\n",
            "704/704 [==============================] - 311s 442ms/sample - loss: 0.4117 - accuracy: 0.8187 - auc_1: 0.8942 - val_loss: 0.4068 - val_accuracy: 0.8227 - val_auc_1: 0.8971\n"
          ],
          "name": "stdout"
        },
        {
          "output_type": "stream",
          "text": [
            "[2021-03-21 14:37:49,609] INFO: Learning rate: 0.001000\n"
          ],
          "name": "stderr"
        },
        {
          "output_type": "stream",
          "text": [
            "Epoch 10/20\n",
            "704/704 [==============================] - 311s 442ms/sample - loss: 0.4112 - accuracy: 0.8191 - auc_1: 0.8944 - val_loss: 0.4071 - val_accuracy: 0.8233 - val_auc_1: 0.8964\n"
          ],
          "name": "stdout"
        },
        {
          "output_type": "stream",
          "text": [
            "[2021-03-21 14:43:00,825] INFO: Learning rate: 0.001000\n"
          ],
          "name": "stderr"
        },
        {
          "output_type": "stream",
          "text": [
            "Epoch 11/20\n",
            "704/704 [==============================] - 311s 442ms/sample - loss: 0.4101 - accuracy: 0.8194 - auc_1: 0.8950 - val_loss: 0.4156 - val_accuracy: 0.8159 - val_auc_1: 0.8921\n"
          ],
          "name": "stdout"
        },
        {
          "output_type": "stream",
          "text": [
            "[2021-03-21 14:48:11,837] INFO: Learning rate: 0.000100\n"
          ],
          "name": "stderr"
        },
        {
          "output_type": "stream",
          "text": [
            "Epoch 12/20\n",
            "704/704 [==============================] - 311s 442ms/sample - loss: 0.4052 - accuracy: 0.8222 - auc_1: 0.8976 - val_loss: 0.4011 - val_accuracy: 0.8246 - val_auc_1: 0.8998\n"
          ],
          "name": "stdout"
        },
        {
          "output_type": "stream",
          "text": [
            "[2021-03-21 14:53:23,080] INFO: Learning rate: 0.000100\n"
          ],
          "name": "stderr"
        },
        {
          "output_type": "stream",
          "text": [
            "Epoch 13/20\n",
            "704/704 [==============================] - 311s 442ms/sample - loss: 0.4046 - accuracy: 0.8228 - auc_1: 0.8980 - val_loss: 0.4002 - val_accuracy: 0.8257 - val_auc_1: 0.9004\n"
          ],
          "name": "stdout"
        },
        {
          "output_type": "stream",
          "text": [
            "[2021-03-21 14:58:34,360] INFO: Learning rate: 0.000100\n"
          ],
          "name": "stderr"
        },
        {
          "output_type": "stream",
          "text": [
            "Epoch 14/20\n",
            "704/704 [==============================] - 311s 442ms/sample - loss: 0.4041 - accuracy: 0.8231 - auc_1: 0.8982 - val_loss: 0.3990 - val_accuracy: 0.8265 - val_auc_1: 0.9010\n"
          ],
          "name": "stdout"
        },
        {
          "output_type": "stream",
          "text": [
            "[2021-03-21 15:03:45,529] INFO: Learning rate: 0.000100\n"
          ],
          "name": "stderr"
        },
        {
          "output_type": "stream",
          "text": [
            "Epoch 15/20\n",
            "704/704 [==============================] - 311s 442ms/sample - loss: 0.4038 - accuracy: 0.8229 - auc_1: 0.8984 - val_loss: 0.4008 - val_accuracy: 0.8249 - val_auc_1: 0.9000\n"
          ],
          "name": "stdout"
        },
        {
          "output_type": "stream",
          "text": [
            "[2021-03-21 15:08:56,784] INFO: Learning rate: 0.000100\n"
          ],
          "name": "stderr"
        },
        {
          "output_type": "stream",
          "text": [
            "Epoch 16/20\n",
            "704/704 [==============================] - 311s 442ms/sample - loss: 0.4043 - accuracy: 0.8230 - auc_1: 0.8981 - val_loss: 0.3987 - val_accuracy: 0.8264 - val_auc_1: 0.9010\n"
          ],
          "name": "stdout"
        },
        {
          "output_type": "stream",
          "text": [
            "[2021-03-21 15:14:07,933] INFO: Learning rate: 0.000100\n"
          ],
          "name": "stderr"
        },
        {
          "output_type": "stream",
          "text": [
            "Epoch 17/20\n",
            "704/704 [==============================] - 311s 442ms/sample - loss: 0.4034 - accuracy: 0.8232 - auc_1: 0.8986 - val_loss: 0.3987 - val_accuracy: 0.8262 - val_auc_1: 0.9012\n"
          ],
          "name": "stdout"
        },
        {
          "output_type": "stream",
          "text": [
            "[2021-03-21 15:19:19,088] INFO: Learning rate: 0.000100\n"
          ],
          "name": "stderr"
        },
        {
          "output_type": "stream",
          "text": [
            "Epoch 18/20\n",
            "704/704 [==============================] - 311s 442ms/sample - loss: 0.4038 - accuracy: 0.8228 - auc_1: 0.8984 - val_loss: 0.3984 - val_accuracy: 0.8265 - val_auc_1: 0.9012\n"
          ],
          "name": "stdout"
        },
        {
          "output_type": "stream",
          "text": [
            "[2021-03-21 15:24:30,250] INFO: Learning rate: 0.000100\n"
          ],
          "name": "stderr"
        },
        {
          "output_type": "stream",
          "text": [
            "Epoch 19/20\n",
            "704/704 [==============================] - 311s 442ms/sample - loss: 0.4030 - accuracy: 0.8237 - auc_1: 0.8988 - val_loss: 0.3982 - val_accuracy: 0.8267 - val_auc_1: 0.9014\n"
          ],
          "name": "stdout"
        },
        {
          "output_type": "stream",
          "text": [
            "[2021-03-21 15:29:41,304] INFO: Learning rate: 0.000100\n"
          ],
          "name": "stderr"
        },
        {
          "output_type": "stream",
          "text": [
            "Epoch 20/20\n",
            "704/704 [==============================] - 311s 441ms/sample - loss: 0.4034 - accuracy: 0.8234 - auc_1: 0.8986 - val_loss: 0.3983 - val_accuracy: 0.8266 - val_auc_1: 0.9012\n"
          ],
          "name": "stdout"
        }
      ]
    },
    {
      "cell_type": "markdown",
      "metadata": {
        "id": "o2v_brROaHS1"
      },
      "source": [
        "One important thing to be noticed here, as we will compare it later, is the time needed to train the model for 1 epoch, which is 311s/epoch."
      ]
    },
    {
      "cell_type": "code",
      "metadata": {
        "id": "AcPC1rznDd41"
      },
      "source": [
        "# save the training history as csv file\n",
        "import csv\n",
        "\n",
        "w = csv.writer(open(\"./train_history_dgcnn.csv\", \"w\"))\n",
        "for key, val in history_dgcnn.history.items():\n",
        "    w.writerow([key, val])"
      ],
      "execution_count": null,
      "outputs": []
    },
    {
      "cell_type": "code",
      "metadata": {
        "colab": {
          "base_uri": "https://localhost:8080/"
        },
        "id": "IOlBlMDub33y",
        "outputId": "0296b3aa-9d26-4e4e-b73e-0e1ab0cab873"
      },
      "source": [
        "# save the last model\n",
        "model_dynamic.save(\"./model_save/model_dynamic\")"
      ],
      "execution_count": null,
      "outputs": [
        {
          "output_type": "stream",
          "text": [
            "INFO:tensorflow:Assets written to: ./model_save/model_dynamic/assets\n"
          ],
          "name": "stdout"
        },
        {
          "output_type": "stream",
          "text": [
            "[2021-03-21 15:39:11,821] INFO: Assets written to: ./model_save/model_dynamic/assets\n"
          ],
          "name": "stderr"
        }
      ]
    },
    {
      "cell_type": "markdown",
      "metadata": {
        "id": "UYfeHLTKQV34"
      },
      "source": [
        "#### Plot the Training History"
      ]
    },
    {
      "cell_type": "code",
      "metadata": {
        "colab": {
          "base_uri": "https://localhost:8080/",
          "height": 295
        },
        "id": "mIFOOjBQ28BU",
        "outputId": "ba01abc3-e10e-43ae-db29-863e561e30cb"
      },
      "source": [
        "plt.plot(np.linspace(1,epochs,epochs, dtype=int), history_dgcnn.history['auc_1'], color='blue', label='Training AUC')\n",
        "plt.plot(np.linspace(1,epochs,epochs, dtype=int), history_dgcnn.history['val_auc_1'], color='red', label='Validation AUC')\n",
        "plt.xlabel(\"Epochs\")\n",
        "plt.ylabel(\"AUC\")\n",
        "plt.title(\"AUC of Dynamic Graph CNN Model\")\n",
        "plt.legend()\n",
        "plt.show()"
      ],
      "execution_count": null,
      "outputs": [
        {
          "output_type": "display_data",
          "data": {
            "image/png": "[encoded data removed]",
            "text/plain": [
              "<Figure size 432x288 with 1 Axes>"
            ]
          },
          "metadata": {
            "tags": [],
            "needs_background": "light"
          }
        }
      ]
    },
    {
      "cell_type": "code",
      "metadata": {
        "id": "9jpheR9Qvqz0",
        "colab": {
          "base_uri": "https://localhost:8080/",
          "height": 295
        },
        "outputId": "48628746-4aa5-4f69-83a3-5297df9b8434"
      },
      "source": [
        "plt.plot(np.linspace(1,epochs,epochs, dtype=int), history_dgcnn.history['accuracy'], color='blue', label='Training Accuracy')\n",
        "plt.plot(np.linspace(1,epochs,epochs, dtype=int), history_dgcnn.history['val_accuracy'], color='red', label='Validation Accuracy')\n",
        "plt.xlabel(\"Epochs\")\n",
        "plt.ylabel(\"Accuracy\")\n",
        "plt.title(\"Accuracy of Dynamic Graph CNN Model\")\n",
        "plt.legend()\n",
        "plt.show()"
      ],
      "execution_count": null,
      "outputs": [
        {
          "output_type": "display_data",
          "data": {
            "image/png": "[encoded data removed]",
            "text/plain": [
              "<Figure size 432x288 with 1 Axes>"
            ]
          },
          "metadata": {
            "tags": [],
            "needs_background": "light"
          }
        }
      ]
    },
    {
      "cell_type": "code",
      "metadata": {
        "colab": {
          "base_uri": "https://localhost:8080/",
          "height": 295
        },
        "id": "LClrLPtCdfuF",
        "outputId": "82482e86-8f62-4f13-a4c9-1bc8f7a8a3b1"
      },
      "source": [
        "plt.plot(np.linspace(1,epochs,epochs, dtype=int), history_dgcnn.history['loss'], color='blue', label='Training Loss')\n",
        "plt.plot(np.linspace(1,epochs,epochs, dtype=int), history_dgcnn.history['val_loss'], color='red', label='Validation Loss')\n",
        "plt.xlabel(\"Epochs\")\n",
        "plt.ylabel(\"Loss\")\n",
        "plt.title(\"Loss of Dynamic Graph CNN Model\")\n",
        "plt.legend()\n",
        "plt.show()"
      ],
      "execution_count": null,
      "outputs": [
        {
          "output_type": "display_data",
          "data": {
            "image/png": "[encoded data removed]",
            "text/plain": [
              "<Figure size 432x288 with 1 Axes>"
            ]
          },
          "metadata": {
            "tags": [],
            "needs_background": "light"
          }
        }
      ]
    },
    {
      "cell_type": "markdown",
      "metadata": {
        "id": "65c937VIheKw"
      },
      "source": [
        "From the plots, it can be seen that the model converged before 20 epochs. The accuracy and AUC obtained are comparable to the values reported in reference [2], considering this project only used less than half of the available dataset (900k out of 2000k in total). A more in-depth discussion will be given later after the training of the \"static\" version of the model is done."
      ]
    },
    {
      "cell_type": "markdown",
      "metadata": {
        "id": "f7HKFEzC3v7_"
      },
      "source": [
        "### Static Graph CNN"
      ]
    },
    {
      "cell_type": "markdown",
      "metadata": {
        "id": "yNlILFADi3va"
      },
      "source": [
        "For this static version, we will train the modified version of ParticleNet-Lite that does not update the graph along the EdgeConv operation."
      ]
    },
    {
      "cell_type": "markdown",
      "metadata": {
        "id": "ytPSwqA_HloO"
      },
      "source": [
        "#### Initialize and Train the Model"
      ]
    },
    {
      "cell_type": "markdown",
      "metadata": {
        "id": "WKmWHrj8kKFJ"
      },
      "source": [
        "Initialize the static/modified version of the ParticleNet-Lite model."
      ]
    },
    {
      "cell_type": "code",
      "metadata": {
        "colab": {
          "base_uri": "https://localhost:8080/"
        },
        "id": "CvymurtXHloP",
        "outputId": "f77e9cbc-0cc2-4c04-c5be-a014fe22906c"
      },
      "source": [
        "model_type = 'particle_net_lite_static'\n",
        "num_classes = 2\n",
        "input_shapes = {k:train_dict[k].shape[1:] for k in train_dict}\n",
        "\n",
        "if 'lite' in model_type:\n",
        "    model_static = get_particle_net_lite_static(num_classes, input_shapes)\n",
        "else:\n",
        "    model_static = get_particle_net_static(num_classes, input_shapes)\n",
        "\n",
        "print(\"Input shapes:\", input_shapes)"
      ],
      "execution_count": null,
      "outputs": [
        {
          "output_type": "stream",
          "text": [
            "Input shapes: {'points': (142, 2), 'features': (142, 4), 'mask': (142, 1)}\n"
          ],
          "name": "stdout"
        }
      ]
    },
    {
      "cell_type": "markdown",
      "metadata": {
        "id": "obwH5qBGjXwV"
      },
      "source": [
        "The exact same hyperparameters as the dynamic version will be used to ensure fairness."
      ]
    },
    {
      "cell_type": "code",
      "metadata": {
        "id": "GJc1ZWoMHloP"
      },
      "source": [
        "# Training parameters\n",
        "batch_size = 1024 if 'lite' in model_type else 384\n",
        "epochs = 20"
      ],
      "execution_count": null,
      "outputs": []
    },
    {
      "cell_type": "code",
      "metadata": {
        "id": "6dBayswCHloQ"
      },
      "source": [
        "def lr_schedule(epoch):\n",
        "    lr = 1e-3\n",
        "    if epoch > 10:\n",
        "        lr *= 0.1\n",
        "    elif epoch > 20:\n",
        "        lr *= 0.01\n",
        "    logging.info('Learning rate: %f'%lr)\n",
        "    return lr"
      ],
      "execution_count": null,
      "outputs": []
    },
    {
      "cell_type": "code",
      "metadata": {
        "colab": {
          "base_uri": "https://localhost:8080/"
        },
        "id": "fZB2DqeDHloR",
        "outputId": "fe632e8d-41fa-430a-8de9-81ee0ab67e42"
      },
      "source": [
        "model_static.compile(loss='categorical_crossentropy',\n",
        "              optimizer=keras.optimizers.Adam(learning_rate=lr_schedule(0)),\n",
        "              metrics=['accuracy', tf.keras.metrics.AUC()])\n",
        "model_static.summary()"
      ],
      "execution_count": null,
      "outputs": [
        {
          "output_type": "stream",
          "text": [
            "[2021-03-21 12:18:06,362] INFO: Learning rate: 0.001000\n"
          ],
          "name": "stderr"
        },
        {
          "output_type": "stream",
          "text": [
            "Model: \"ParticleNet_Lite_Static\"\n",
            "__________________________________________________________________________________________________\n",
            "Layer (type)                    Output Shape         Param #     Connected to                     \n",
            "==================================================================================================\n",
            "mask (InputLayer)               [(None, 142, 1)]     0                                            \n",
            "__________________________________________________________________________________________________\n",
            "tf.math.not_equal (TFOpLambda)  (None, 142, 1)       0           mask[0][0]                       \n",
            "__________________________________________________________________________________________________\n",
            "tf.cast (TFOpLambda)            (None, 142, 1)       0           tf.math.not_equal[0][0]          \n",
            "__________________________________________________________________________________________________\n",
            "tf.math.equal (TFOpLambda)      (None, 142, 1)       0           tf.cast[0][0]                    \n",
            "__________________________________________________________________________________________________\n",
            "tf.cast_1 (TFOpLambda)          (None, 142, 1)       0           tf.math.equal[0][0]              \n",
            "__________________________________________________________________________________________________\n",
            "tf.math.multiply (TFOpLambda)   (None, 142, 1)       0           tf.cast_1[0][0]                  \n",
            "__________________________________________________________________________________________________\n",
            "points (InputLayer)             [(None, 142, 2)]     0                                            \n",
            "__________________________________________________________________________________________________\n",
            "tf.math.add (TFOpLambda)        (None, 142, 2)       0           tf.math.multiply[0][0]           \n",
            "                                                                 points[0][0]                     \n",
            "__________________________________________________________________________________________________\n",
            "features (InputLayer)           [(None, 142, 4)]     0                                            \n",
            "__________________________________________________________________________________________________\n",
            "tf.compat.v1.transpose (TFOpLam (None, 2, 142)       0           tf.math.add[0][0]                \n",
            "__________________________________________________________________________________________________\n",
            "tf.expand_dims (TFOpLambda)     (None, 142, 1, 4)    0           features[0][0]                   \n",
            "__________________________________________________________________________________________________\n",
            "tf.math.multiply_1 (TFOpLambda) (None, 142, 2)       0           tf.math.add[0][0]                \n",
            "                                                                 tf.math.add[0][0]                \n",
            "__________________________________________________________________________________________________\n",
            "tf.linalg.matmul (TFOpLambda)   (None, 142, 142)     0           tf.math.add[0][0]                \n",
            "                                                                 tf.compat.v1.transpose[0][0]     \n",
            "__________________________________________________________________________________________________\n",
            "tf.math.multiply_2 (TFOpLambda) (None, 142, 2)       0           tf.math.add[0][0]                \n",
            "                                                                 tf.math.add[0][0]                \n",
            "__________________________________________________________________________________________________\n",
            "ParticleNet_fts_bn (BatchNormal (None, 142, 1, 4)    16          tf.expand_dims[0][0]             \n",
            "__________________________________________________________________________________________________\n",
            "tf.math.reduce_sum (TFOpLambda) (None, 142, 1)       0           tf.math.multiply_1[0][0]         \n",
            "__________________________________________________________________________________________________\n",
            "tf.math.multiply_3 (TFOpLambda) (None, 142, 142)     0           tf.linalg.matmul[0][0]           \n",
            "__________________________________________________________________________________________________\n",
            "tf.math.reduce_sum_1 (TFOpLambd (None, 142, 1)       0           tf.math.multiply_2[0][0]         \n",
            "__________________________________________________________________________________________________\n",
            "tf.compat.v1.squeeze (TFOpLambd (None, 142, 4)       0           ParticleNet_fts_bn[0][0]         \n",
            "__________________________________________________________________________________________________\n",
            "tf.math.subtract (TFOpLambda)   (None, 142, 142)     0           tf.math.reduce_sum[0][0]         \n",
            "                                                                 tf.math.multiply_3[0][0]         \n",
            "__________________________________________________________________________________________________\n",
            "tf.compat.v1.transpose_1 (TFOpL (None, 1, 142)       0           tf.math.reduce_sum_1[0][0]       \n",
            "__________________________________________________________________________________________________\n",
            "tf.compat.v1.shape (TFOpLambda) (3,)                 0           tf.compat.v1.squeeze[0][0]       \n",
            "__________________________________________________________________________________________________\n",
            "tf.__operators__.add (TFOpLambd (None, 142, 142)     0           tf.math.subtract[0][0]           \n",
            "                                                                 tf.compat.v1.transpose_1[0][0]   \n",
            "__________________________________________________________________________________________________\n",
            "tf.__operators__.getitem_1 (Sli ()                   0           tf.compat.v1.shape[0][0]         \n",
            "__________________________________________________________________________________________________\n",
            "tf.math.negative (TFOpLambda)   (None, 142, 142)     0           tf.__operators__.add[0][0]       \n",
            "__________________________________________________________________________________________________\n",
            "tf.range (TFOpLambda)           (None,)              0           tf.__operators__.getitem_1[0][0] \n",
            "__________________________________________________________________________________________________\n",
            "tf.math.top_k (TFOpLambda)      TopKV2(values=(None, 0           tf.math.negative[0][0]           \n",
            "__________________________________________________________________________________________________\n",
            "tf.reshape (TFOpLambda)         (None, 1, 1, 1)      0           tf.range[0][0]                   \n",
            "__________________________________________________________________________________________________\n",
            "tf.__operators__.getitem (Slici (None, 142, 7)       0           tf.math.top_k[0][1]              \n",
            "__________________________________________________________________________________________________\n",
            "tf.tile (TFOpLambda)            (None, 142, 7, 1)    0           tf.reshape[0][0]                 \n",
            "__________________________________________________________________________________________________\n",
            "tf.expand_dims_1 (TFOpLambda)   (None, 142, 7, 1)    0           tf.__operators__.getitem[0][0]   \n",
            "__________________________________________________________________________________________________\n",
            "tf.expand_dims_2 (TFOpLambda)   (None, 142, 1, 4)    0           tf.compat.v1.squeeze[0][0]       \n",
            "__________________________________________________________________________________________________\n",
            "tf.concat (TFOpLambda)          (None, 142, 7, 2)    0           tf.tile[0][0]                    \n",
            "                                                                 tf.expand_dims_1[0][0]           \n",
            "__________________________________________________________________________________________________\n",
            "tf.tile_1 (TFOpLambda)          (None, 142, 7, 4)    0           tf.expand_dims_2[0][0]           \n",
            "__________________________________________________________________________________________________\n",
            "tf.compat.v1.gather_nd (TFOpLam (None, 142, 7, 4)    0           tf.compat.v1.squeeze[0][0]       \n",
            "                                                                 tf.concat[0][0]                  \n",
            "__________________________________________________________________________________________________\n",
            "tf.math.subtract_1 (TFOpLambda) (None, 142, 7, 4)    0           tf.compat.v1.gather_nd[0][0]     \n",
            "                                                                 tf.tile_1[0][0]                  \n",
            "__________________________________________________________________________________________________\n",
            "tf.concat_1 (TFOpLambda)        (None, 142, 7, 8)    0           tf.tile_1[0][0]                  \n",
            "                                                                 tf.math.subtract_1[0][0]         \n",
            "__________________________________________________________________________________________________\n",
            "ParticleNet_EdgeConv0_conv0 (Co (None, 142, 7, 32)   256         tf.concat_1[0][0]                \n",
            "__________________________________________________________________________________________________\n",
            "ParticleNet_EdgeConv0_bn0 (Batc (None, 142, 7, 32)   128         ParticleNet_EdgeConv0_conv0[0][0]\n",
            "__________________________________________________________________________________________________\n",
            "ParticleNet_EdgeConv0_act0 (Act (None, 142, 7, 32)   0           ParticleNet_EdgeConv0_bn0[0][0]  \n",
            "__________________________________________________________________________________________________\n",
            "ParticleNet_EdgeConv0_conv1 (Co (None, 142, 7, 32)   1024        ParticleNet_EdgeConv0_act0[0][0] \n",
            "__________________________________________________________________________________________________\n",
            "ParticleNet_EdgeConv0_bn1 (Batc (None, 142, 7, 32)   128         ParticleNet_EdgeConv0_conv1[0][0]\n",
            "__________________________________________________________________________________________________\n",
            "ParticleNet_EdgeConv0_act1 (Act (None, 142, 7, 32)   0           ParticleNet_EdgeConv0_bn1[0][0]  \n",
            "__________________________________________________________________________________________________\n",
            "tf.expand_dims_3 (TFOpLambda)   (None, 142, 1, 4)    0           tf.compat.v1.squeeze[0][0]       \n",
            "__________________________________________________________________________________________________\n",
            "ParticleNet_EdgeConv0_conv2 (Co (None, 142, 7, 32)   1024        ParticleNet_EdgeConv0_act1[0][0] \n",
            "__________________________________________________________________________________________________\n",
            "ParticleNet_EdgeConv0_sc_conv ( (None, 142, 1, 32)   128         tf.expand_dims_3[0][0]           \n",
            "__________________________________________________________________________________________________\n",
            "ParticleNet_EdgeConv0_bn2 (Batc (None, 142, 7, 32)   128         ParticleNet_EdgeConv0_conv2[0][0]\n",
            "__________________________________________________________________________________________________\n",
            "ParticleNet_EdgeConv0_sc_bn (Ba (None, 142, 1, 32)   128         ParticleNet_EdgeConv0_sc_conv[0][\n",
            "__________________________________________________________________________________________________\n",
            "ParticleNet_EdgeConv0_act2 (Act (None, 142, 7, 32)   0           ParticleNet_EdgeConv0_bn2[0][0]  \n",
            "__________________________________________________________________________________________________\n",
            "tf.compat.v1.squeeze_1 (TFOpLam (None, 142, 32)      0           ParticleNet_EdgeConv0_sc_bn[0][0]\n",
            "__________________________________________________________________________________________________\n",
            "tf.math.reduce_mean (TFOpLambda (None, 142, 32)      0           ParticleNet_EdgeConv0_act2[0][0] \n",
            "__________________________________________________________________________________________________\n",
            "tf.__operators__.add_1 (TFOpLam (None, 142, 32)      0           tf.compat.v1.squeeze_1[0][0]     \n",
            "                                                                 tf.math.reduce_mean[0][0]        \n",
            "__________________________________________________________________________________________________\n",
            "ParticleNet_EdgeConv0_sc_act (A (None, 142, 32)      0           tf.__operators__.add_1[0][0]     \n",
            "__________________________________________________________________________________________________\n",
            "tf.compat.v1.shape_1 (TFOpLambd (3,)                 0           ParticleNet_EdgeConv0_sc_act[0][0\n",
            "__________________________________________________________________________________________________\n",
            "tf.__operators__.getitem_2 (Sli ()                   0           tf.compat.v1.shape_1[0][0]       \n",
            "__________________________________________________________________________________________________\n",
            "tf.range_1 (TFOpLambda)         (None,)              0           tf.__operators__.getitem_2[0][0] \n",
            "__________________________________________________________________________________________________\n",
            "tf.reshape_1 (TFOpLambda)       (None, 1, 1, 1)      0           tf.range_1[0][0]                 \n",
            "__________________________________________________________________________________________________\n",
            "tf.tile_2 (TFOpLambda)          (None, 142, 7, 1)    0           tf.reshape_1[0][0]               \n",
            "__________________________________________________________________________________________________\n",
            "tf.expand_dims_4 (TFOpLambda)   (None, 142, 7, 1)    0           tf.__operators__.getitem[0][0]   \n",
            "__________________________________________________________________________________________________\n",
            "tf.expand_dims_5 (TFOpLambda)   (None, 142, 1, 32)   0           ParticleNet_EdgeConv0_sc_act[0][0\n",
            "__________________________________________________________________________________________________\n",
            "tf.concat_2 (TFOpLambda)        (None, 142, 7, 2)    0           tf.tile_2[0][0]                  \n",
            "                                                                 tf.expand_dims_4[0][0]           \n",
            "__________________________________________________________________________________________________\n",
            "tf.tile_3 (TFOpLambda)          (None, 142, 7, 32)   0           tf.expand_dims_5[0][0]           \n",
            "__________________________________________________________________________________________________\n",
            "tf.compat.v1.gather_nd_1 (TFOpL (None, 142, 7, 32)   0           ParticleNet_EdgeConv0_sc_act[0][0\n",
            "                                                                 tf.concat_2[0][0]                \n",
            "__________________________________________________________________________________________________\n",
            "tf.math.subtract_2 (TFOpLambda) (None, 142, 7, 32)   0           tf.compat.v1.gather_nd_1[0][0]   \n",
            "                                                                 tf.tile_3[0][0]                  \n",
            "__________________________________________________________________________________________________\n",
            "tf.concat_3 (TFOpLambda)        (None, 142, 7, 64)   0           tf.tile_3[0][0]                  \n",
            "                                                                 tf.math.subtract_2[0][0]         \n",
            "__________________________________________________________________________________________________\n",
            "ParticleNet_EdgeConv1_conv0 (Co (None, 142, 7, 64)   4096        tf.concat_3[0][0]                \n",
            "__________________________________________________________________________________________________\n",
            "ParticleNet_EdgeConv1_bn0 (Batc (None, 142, 7, 64)   256         ParticleNet_EdgeConv1_conv0[0][0]\n",
            "__________________________________________________________________________________________________\n",
            "ParticleNet_EdgeConv1_act0 (Act (None, 142, 7, 64)   0           ParticleNet_EdgeConv1_bn0[0][0]  \n",
            "__________________________________________________________________________________________________\n",
            "ParticleNet_EdgeConv1_conv1 (Co (None, 142, 7, 64)   4096        ParticleNet_EdgeConv1_act0[0][0] \n",
            "__________________________________________________________________________________________________\n",
            "ParticleNet_EdgeConv1_bn1 (Batc (None, 142, 7, 64)   256         ParticleNet_EdgeConv1_conv1[0][0]\n",
            "__________________________________________________________________________________________________\n",
            "ParticleNet_EdgeConv1_act1 (Act (None, 142, 7, 64)   0           ParticleNet_EdgeConv1_bn1[0][0]  \n",
            "__________________________________________________________________________________________________\n",
            "tf.expand_dims_6 (TFOpLambda)   (None, 142, 1, 32)   0           ParticleNet_EdgeConv0_sc_act[0][0\n",
            "__________________________________________________________________________________________________\n",
            "ParticleNet_EdgeConv1_conv2 (Co (None, 142, 7, 64)   4096        ParticleNet_EdgeConv1_act1[0][0] \n",
            "__________________________________________________________________________________________________\n",
            "ParticleNet_EdgeConv1_sc_conv ( (None, 142, 1, 64)   2048        tf.expand_dims_6[0][0]           \n",
            "__________________________________________________________________________________________________\n",
            "ParticleNet_EdgeConv1_bn2 (Batc (None, 142, 7, 64)   256         ParticleNet_EdgeConv1_conv2[0][0]\n",
            "__________________________________________________________________________________________________\n",
            "ParticleNet_EdgeConv1_sc_bn (Ba (None, 142, 1, 64)   256         ParticleNet_EdgeConv1_sc_conv[0][\n",
            "__________________________________________________________________________________________________\n",
            "ParticleNet_EdgeConv1_act2 (Act (None, 142, 7, 64)   0           ParticleNet_EdgeConv1_bn2[0][0]  \n",
            "__________________________________________________________________________________________________\n",
            "tf.compat.v1.squeeze_2 (TFOpLam (None, 142, 64)      0           ParticleNet_EdgeConv1_sc_bn[0][0]\n",
            "__________________________________________________________________________________________________\n",
            "tf.math.reduce_mean_1 (TFOpLamb (None, 142, 64)      0           ParticleNet_EdgeConv1_act2[0][0] \n",
            "__________________________________________________________________________________________________\n",
            "tf.__operators__.add_2 (TFOpLam (None, 142, 64)      0           tf.compat.v1.squeeze_2[0][0]     \n",
            "                                                                 tf.math.reduce_mean_1[0][0]      \n",
            "__________________________________________________________________________________________________\n",
            "ParticleNet_EdgeConv1_sc_act (A (None, 142, 64)      0           tf.__operators__.add_2[0][0]     \n",
            "__________________________________________________________________________________________________\n",
            "tf.math.multiply_4 (TFOpLambda) (None, 142, 64)      0           ParticleNet_EdgeConv1_sc_act[0][0\n",
            "                                                                 tf.cast[0][0]                    \n",
            "__________________________________________________________________________________________________\n",
            "tf.math.reduce_mean_2 (TFOpLamb (None, 64)           0           tf.math.multiply_4[0][0]         \n",
            "__________________________________________________________________________________________________\n",
            "dense (Dense)                   (None, 128)          8320        tf.math.reduce_mean_2[0][0]      \n",
            "__________________________________________________________________________________________________\n",
            "dropout (Dropout)               (None, 128)          0           dense[0][0]                      \n",
            "__________________________________________________________________________________________________\n",
            "dense_1 (Dense)                 (None, 2)            258         dropout[0][0]                    \n",
            "==================================================================================================\n",
            "Total params: 26,898\n",
            "Trainable params: 26,122\n",
            "Non-trainable params: 776\n",
            "__________________________________________________________________________________________________\n"
          ],
          "name": "stdout"
        }
      ]
    },
    {
      "cell_type": "code",
      "metadata": {
        "id": "dgeTBqWOHloS"
      },
      "source": [
        "lr_scheduler = keras.callbacks.LearningRateScheduler(lr_schedule)\n",
        "progress_bar = keras.callbacks.ProgbarLogger()\n",
        "callbacks = [lr_scheduler, progress_bar]"
      ],
      "execution_count": null,
      "outputs": []
    },
    {
      "cell_type": "markdown",
      "metadata": {
        "id": "EUxEmy56kSRh"
      },
      "source": [
        "Let's train the model."
      ]
    },
    {
      "cell_type": "code",
      "metadata": {
        "colab": {
          "base_uri": "https://localhost:8080/"
        },
        "id": "8nOPddjDHloS",
        "outputId": "dc0a0a40-80cf-4edd-9d67-e320a68574dc"
      },
      "source": [
        "history_sgcnn = model_static.fit(train_dict, y_train,\n",
        "          batch_size=batch_size,\n",
        "          epochs=epochs,\n",
        "          validation_data=(val_dict, y_val),\n",
        "          shuffle=True,\n",
        "          callbacks=callbacks)"
      ],
      "execution_count": null,
      "outputs": [
        {
          "output_type": "stream",
          "text": [
            "[2021-03-21 12:18:30,277] INFO: Learning rate: 0.001000\n"
          ],
          "name": "stderr"
        },
        {
          "output_type": "stream",
          "text": [
            "Epoch 1/20\n",
            "704/704 [==============================] - 246s 349ms/sample - loss: 0.4681 - accuracy: 0.7867 - auc: 0.8595 - val_loss: 0.4412 - val_accuracy: 0.8037 - val_auc: 0.8778\n"
          ],
          "name": "stdout"
        },
        {
          "output_type": "stream",
          "text": [
            "[2021-03-21 12:22:35,878] INFO: Learning rate: 0.001000\n"
          ],
          "name": "stderr"
        },
        {
          "output_type": "stream",
          "text": [
            "Epoch 2/20\n",
            "704/704 [==============================] - 211s 300ms/sample - loss: 0.4306 - accuracy: 0.8093 - auc: 0.8834 - val_loss: 0.4394 - val_accuracy: 0.8044 - val_auc: 0.8796\n"
          ],
          "name": "stdout"
        },
        {
          "output_type": "stream",
          "text": [
            "[2021-03-21 12:26:07,350] INFO: Learning rate: 0.001000\n"
          ],
          "name": "stderr"
        },
        {
          "output_type": "stream",
          "text": [
            "Epoch 3/20\n",
            "704/704 [==============================] - 211s 300ms/sample - loss: 0.4234 - accuracy: 0.8124 - auc: 0.8876 - val_loss: 0.4166 - val_accuracy: 0.8173 - val_auc: 0.8916\n"
          ],
          "name": "stdout"
        },
        {
          "output_type": "stream",
          "text": [
            "[2021-03-21 12:29:38,794] INFO: Learning rate: 0.001000\n"
          ],
          "name": "stderr"
        },
        {
          "output_type": "stream",
          "text": [
            "Epoch 4/20\n",
            "704/704 [==============================] - 211s 300ms/sample - loss: 0.4185 - accuracy: 0.8153 - auc: 0.8904 - val_loss: 0.4133 - val_accuracy: 0.8190 - val_auc: 0.8932\n"
          ],
          "name": "stdout"
        },
        {
          "output_type": "stream",
          "text": [
            "[2021-03-21 12:33:10,159] INFO: Learning rate: 0.001000\n"
          ],
          "name": "stderr"
        },
        {
          "output_type": "stream",
          "text": [
            "Epoch 5/20\n",
            "704/704 [==============================] - 212s 301ms/sample - loss: 0.4168 - accuracy: 0.8162 - auc: 0.8913 - val_loss: 0.4247 - val_accuracy: 0.8105 - val_auc: 0.8870\n"
          ],
          "name": "stdout"
        },
        {
          "output_type": "stream",
          "text": [
            "[2021-03-21 12:36:41,807] INFO: Learning rate: 0.001000\n"
          ],
          "name": "stderr"
        },
        {
          "output_type": "stream",
          "text": [
            "Epoch 6/20\n",
            "704/704 [==============================] - 211s 300ms/sample - loss: 0.4140 - accuracy: 0.8174 - auc: 0.8929 - val_loss: 0.4074 - val_accuracy: 0.8227 - val_auc: 0.8964\n"
          ],
          "name": "stdout"
        },
        {
          "output_type": "stream",
          "text": [
            "[2021-03-21 12:40:12,771] INFO: Learning rate: 0.001000\n"
          ],
          "name": "stderr"
        },
        {
          "output_type": "stream",
          "text": [
            "Epoch 7/20\n",
            "704/704 [==============================] - 211s 300ms/sample - loss: 0.4126 - accuracy: 0.8185 - auc: 0.8936 - val_loss: 0.4703 - val_accuracy: 0.7800 - val_auc: 0.8615\n"
          ],
          "name": "stdout"
        },
        {
          "output_type": "stream",
          "text": [
            "[2021-03-21 12:43:43,750] INFO: Learning rate: 0.001000\n"
          ],
          "name": "stderr"
        },
        {
          "output_type": "stream",
          "text": [
            "Epoch 8/20\n",
            "704/704 [==============================] - 211s 300ms/sample - loss: 0.4113 - accuracy: 0.8193 - auc: 0.8943 - val_loss: 0.4089 - val_accuracy: 0.8209 - val_auc: 0.8960\n"
          ],
          "name": "stdout"
        },
        {
          "output_type": "stream",
          "text": [
            "[2021-03-21 12:47:14,653] INFO: Learning rate: 0.001000\n"
          ],
          "name": "stderr"
        },
        {
          "output_type": "stream",
          "text": [
            "Epoch 9/20\n",
            "704/704 [==============================] - 211s 300ms/sample - loss: 0.4105 - accuracy: 0.8197 - auc: 0.8947 - val_loss: 0.4277 - val_accuracy: 0.8100 - val_auc: 0.8853\n"
          ],
          "name": "stdout"
        },
        {
          "output_type": "stream",
          "text": [
            "[2021-03-21 12:50:45,544] INFO: Learning rate: 0.001000\n"
          ],
          "name": "stderr"
        },
        {
          "output_type": "stream",
          "text": [
            "Epoch 10/20\n",
            "704/704 [==============================] - 211s 299ms/sample - loss: 0.4094 - accuracy: 0.8203 - auc: 0.8954 - val_loss: 0.4284 - val_accuracy: 0.8108 - val_auc: 0.8870\n"
          ],
          "name": "stdout"
        },
        {
          "output_type": "stream",
          "text": [
            "[2021-03-21 12:54:16,353] INFO: Learning rate: 0.001000\n"
          ],
          "name": "stderr"
        },
        {
          "output_type": "stream",
          "text": [
            "Epoch 11/20\n",
            "704/704 [==============================] - 211s 300ms/sample - loss: 0.4078 - accuracy: 0.8213 - auc: 0.8962 - val_loss: 0.4121 - val_accuracy: 0.8202 - val_auc: 0.8941\n"
          ],
          "name": "stdout"
        },
        {
          "output_type": "stream",
          "text": [
            "[2021-03-21 12:57:47,333] INFO: Learning rate: 0.000100\n"
          ],
          "name": "stderr"
        },
        {
          "output_type": "stream",
          "text": [
            "Epoch 12/20\n",
            "704/704 [==============================] - 211s 300ms/sample - loss: 0.4030 - accuracy: 0.8230 - auc: 0.8987 - val_loss: 0.3966 - val_accuracy: 0.8288 - val_auc: 0.9021\n"
          ],
          "name": "stdout"
        },
        {
          "output_type": "stream",
          "text": [
            "[2021-03-21 13:01:18,341] INFO: Learning rate: 0.000100\n"
          ],
          "name": "stderr"
        },
        {
          "output_type": "stream",
          "text": [
            "Epoch 13/20\n",
            "704/704 [==============================] - 211s 300ms/sample - loss: 0.4033 - accuracy: 0.8232 - auc: 0.8986 - val_loss: 0.3969 - val_accuracy: 0.8281 - val_auc: 0.9019\n"
          ],
          "name": "stdout"
        },
        {
          "output_type": "stream",
          "text": [
            "[2021-03-21 13:04:49,385] INFO: Learning rate: 0.000100\n"
          ],
          "name": "stderr"
        },
        {
          "output_type": "stream",
          "text": [
            "Epoch 14/20\n",
            "704/704 [==============================] - 211s 300ms/sample - loss: 0.4024 - accuracy: 0.8237 - auc: 0.8991 - val_loss: 0.3958 - val_accuracy: 0.8289 - val_auc: 0.9024\n"
          ],
          "name": "stdout"
        },
        {
          "output_type": "stream",
          "text": [
            "[2021-03-21 13:08:20,350] INFO: Learning rate: 0.000100\n"
          ],
          "name": "stderr"
        },
        {
          "output_type": "stream",
          "text": [
            "Epoch 15/20\n",
            "704/704 [==============================] - 211s 300ms/sample - loss: 0.4015 - accuracy: 0.8237 - auc: 0.8996 - val_loss: 0.3965 - val_accuracy: 0.8291 - val_auc: 0.9022\n"
          ],
          "name": "stdout"
        },
        {
          "output_type": "stream",
          "text": [
            "[2021-03-21 13:11:51,505] INFO: Learning rate: 0.000100\n"
          ],
          "name": "stderr"
        },
        {
          "output_type": "stream",
          "text": [
            "Epoch 16/20\n",
            "704/704 [==============================] - 211s 300ms/sample - loss: 0.4018 - accuracy: 0.8239 - auc: 0.8994 - val_loss: 0.3957 - val_accuracy: 0.8287 - val_auc: 0.9025\n"
          ],
          "name": "stdout"
        },
        {
          "output_type": "stream",
          "text": [
            "[2021-03-21 13:15:22,778] INFO: Learning rate: 0.000100\n"
          ],
          "name": "stderr"
        },
        {
          "output_type": "stream",
          "text": [
            "Epoch 17/20\n",
            "704/704 [==============================] - 211s 300ms/sample - loss: 0.4021 - accuracy: 0.8242 - auc: 0.8992 - val_loss: 0.3956 - val_accuracy: 0.8287 - val_auc: 0.9026\n"
          ],
          "name": "stdout"
        },
        {
          "output_type": "stream",
          "text": [
            "[2021-03-21 13:18:53,765] INFO: Learning rate: 0.000100\n"
          ],
          "name": "stderr"
        },
        {
          "output_type": "stream",
          "text": [
            "Epoch 18/20\n",
            "704/704 [==============================] - 211s 300ms/sample - loss: 0.4011 - accuracy: 0.8248 - auc: 0.8998 - val_loss: 0.3953 - val_accuracy: 0.8295 - val_auc: 0.9027\n"
          ],
          "name": "stdout"
        },
        {
          "output_type": "stream",
          "text": [
            "[2021-03-21 13:22:24,749] INFO: Learning rate: 0.000100\n"
          ],
          "name": "stderr"
        },
        {
          "output_type": "stream",
          "text": [
            "Epoch 19/20\n",
            "704/704 [==============================] - 211s 299ms/sample - loss: 0.4015 - accuracy: 0.8247 - auc: 0.8996 - val_loss: 0.3950 - val_accuracy: 0.8294 - val_auc: 0.9030\n"
          ],
          "name": "stdout"
        },
        {
          "output_type": "stream",
          "text": [
            "[2021-03-21 13:25:55,560] INFO: Learning rate: 0.000100\n"
          ],
          "name": "stderr"
        },
        {
          "output_type": "stream",
          "text": [
            "Epoch 20/20\n",
            "704/704 [==============================] - 211s 299ms/sample - loss: 0.4011 - accuracy: 0.8244 - auc: 0.8998 - val_loss: 0.3965 - val_accuracy: 0.8284 - val_auc: 0.9020\n"
          ],
          "name": "stdout"
        }
      ]
    },
    {
      "cell_type": "markdown",
      "metadata": {
        "id": "PY7y5-lpkVxr"
      },
      "source": [
        "Same as before, notice that the time needed to train the static model is 211s/epoch. This will be compared later."
      ]
    },
    {
      "cell_type": "code",
      "metadata": {
        "id": "KrWrwkHdM-qq"
      },
      "source": [
        "# save the training history as csv file\n",
        "import csv\n",
        "\n",
        "w = csv.writer(open(\"./train_history_sgcnn.csv\", \"w\"))\n",
        "for key, val in history_sgcnn.history.items():\n",
        "    w.writerow([key, val])"
      ],
      "execution_count": null,
      "outputs": []
    },
    {
      "cell_type": "code",
      "metadata": {
        "colab": {
          "base_uri": "https://localhost:8080/"
        },
        "id": "w-_Z0KJfA_ja",
        "outputId": "48b14b88-3c7a-4c24-edd8-1b90ed275e7c"
      },
      "source": [
        "# save the last model\n",
        "model_static.save(\"./model_save/model_static\")"
      ],
      "execution_count": null,
      "outputs": [
        {
          "output_type": "stream",
          "text": [
            "INFO:tensorflow:Assets written to: ./model_save/model_static/assets\n"
          ],
          "name": "stdout"
        },
        {
          "output_type": "stream",
          "text": [
            "[2021-03-21 13:45:56,428] INFO: Assets written to: ./model_save/model_static/assets\n"
          ],
          "name": "stderr"
        }
      ]
    },
    {
      "cell_type": "markdown",
      "metadata": {
        "id": "jM0uWHEQQmhe"
      },
      "source": [
        "#### Plot the Training History"
      ]
    },
    {
      "cell_type": "code",
      "metadata": {
        "colab": {
          "base_uri": "https://localhost:8080/",
          "height": 295
        },
        "id": "iiZkkxpTHloU",
        "outputId": "98745a08-231e-4407-de93-aea3d433e087"
      },
      "source": [
        "plt.plot(np.linspace(1,epochs,epochs, dtype=int), history_sgcnn.history['auc'], color='blue', label='Training AUC')\n",
        "plt.plot(np.linspace(1,epochs,epochs, dtype=int), history_sgcnn.history['val_auc'], color='red', label='Validation AUC')\n",
        "plt.xlabel(\"Epochs\")\n",
        "plt.ylabel(\"AUC\")\n",
        "plt.title(\"AUC of Static Graph CNN Model\")\n",
        "plt.legend()\n",
        "plt.show()"
      ],
      "execution_count": null,
      "outputs": [
        {
          "output_type": "display_data",
          "data": {
            "image/png": "[encoded data removed]",
            "text/plain": [
              "<Figure size 432x288 with 1 Axes>"
            ]
          },
          "metadata": {
            "tags": [],
            "needs_background": "light"
          }
        }
      ]
    },
    {
      "cell_type": "code",
      "metadata": {
        "colab": {
          "base_uri": "https://localhost:8080/",
          "height": 295
        },
        "id": "QtS6ckknHloU",
        "outputId": "b0628155-fe95-469c-c6f8-460f42912373"
      },
      "source": [
        "plt.plot(np.linspace(1,epochs,epochs, dtype=int), history_sgcnn.history['accuracy'], color='blue', label='Training Accuracy')\n",
        "plt.plot(np.linspace(1,epochs,epochs, dtype=int), history_sgcnn.history['val_accuracy'], color='red', label='Validation Accuracy')\n",
        "plt.xlabel(\"Epochs\")\n",
        "plt.ylabel(\"Accuracy\")\n",
        "plt.title(\"Accuracy of Static Graph CNN Model\")\n",
        "plt.legend()\n",
        "plt.show()"
      ],
      "execution_count": null,
      "outputs": [
        {
          "output_type": "display_data",
          "data": {
            "image/png": "[encoded data removed]",
            "text/plain": [
              "<Figure size 432x288 with 1 Axes>"
            ]
          },
          "metadata": {
            "tags": [],
            "needs_background": "light"
          }
        }
      ]
    },
    {
      "cell_type": "code",
      "metadata": {
        "colab": {
          "base_uri": "https://localhost:8080/",
          "height": 295
        },
        "id": "rklpLYpDHloV",
        "outputId": "e3f20d5d-3f93-4ba5-9bf5-041bb8703a45"
      },
      "source": [
        "plt.plot(np.linspace(1,epochs,epochs, dtype=int), history_sgcnn.history['loss'], color='blue', label='Training Loss')\n",
        "plt.plot(np.linspace(1,epochs,epochs, dtype=int), history_sgcnn.history['val_loss'], color='red', label='Validation Loss')\n",
        "plt.xlabel(\"Epochs\")\n",
        "plt.ylabel(\"Loss\")\n",
        "plt.title(\"Loss of Static Graph CNN Model\")\n",
        "plt.legend()\n",
        "plt.show()"
      ],
      "execution_count": null,
      "outputs": [
        {
          "output_type": "display_data",
          "data": {
            "image/png": "[encoded data removed]",
            "text/plain": [
              "<Figure size 432x288 with 1 Axes>"
            ]
          },
          "metadata": {
            "tags": [],
            "needs_background": "light"
          }
        }
      ]
    },
    {
      "cell_type": "markdown",
      "metadata": {
        "id": "_WE0c5r9kwpQ"
      },
      "source": [
        "One thing that really stood out from these plots is the instability of the training process. A more in-depth discussion will be given in the next section."
      ]
    },
    {
      "cell_type": "markdown",
      "metadata": {
        "id": "1FvF7ovWc6A_"
      },
      "source": [
        "### Comparing the Model"
      ]
    },
    {
      "cell_type": "markdown",
      "metadata": {
        "id": "T3Ekp8zNnHdl"
      },
      "source": [
        "Let's put the results from both models side by side for easier comparison."
      ]
    },
    {
      "cell_type": "code",
      "metadata": {
        "colab": {
          "base_uri": "https://localhost:8080/",
          "height": 295
        },
        "id": "rcBkAm3XebeS",
        "outputId": "337d6282-4460-4b4f-b3d8-1cc440f04ee9"
      },
      "source": [
        "plt.plot(np.linspace(1,epochs,epochs, dtype=int), history_dgcnn.history['auc_1'], color='teal', label='Training AUC - Dynamic')\n",
        "plt.plot(np.linspace(1,epochs,epochs, dtype=int), history_dgcnn.history['val_auc_1'], color='blue', label='Validation AUC - Dynamic')\n",
        "\n",
        "plt.plot(np.linspace(1,epochs,epochs, dtype=int), history_sgcnn.history['auc'], color='orange', label='Training AUC - Static')\n",
        "plt.plot(np.linspace(1,epochs,epochs, dtype=int), history_sgcnn.history['val_auc'], color='red', label='Validation AUC - Static')\n",
        "\n",
        "plt.xlabel(\"Epochs\")\n",
        "plt.ylabel(\"AUC\")\n",
        "plt.title(\"AUC of Dynamic vs Static Graph CNN Model\")\n",
        "plt.legend()\n",
        "plt.show()"
      ],
      "execution_count": null,
      "outputs": [
        {
          "output_type": "display_data",
          "data": {
            "image/png": "[encoded data removed]",
            "text/plain": [
              "<Figure size 432x288 with 1 Axes>"
            ]
          },
          "metadata": {
            "tags": [],
            "needs_background": "light"
          }
        }
      ]
    },
    {
      "cell_type": "code",
      "metadata": {
        "colab": {
          "base_uri": "https://localhost:8080/",
          "height": 295
        },
        "id": "yx3xTN18fTxG",
        "outputId": "fdf0d610-c348-4834-c0b6-5937f44ba45a"
      },
      "source": [
        "plt.plot(np.linspace(1,epochs,epochs, dtype=int), history_dgcnn.history['accuracy'], color='teal', label='Training Accuracy - Dynamic')\n",
        "plt.plot(np.linspace(1,epochs,epochs, dtype=int), history_dgcnn.history['val_accuracy'], color='blue', label='Validation Accuracy - Dynamic')\n",
        "\n",
        "plt.plot(np.linspace(1,epochs,epochs, dtype=int), history_sgcnn.history['accuracy'], color='orange', label='Training Accuracy - Static')\n",
        "plt.plot(np.linspace(1,epochs,epochs, dtype=int), history_sgcnn.history['val_accuracy'], color='red', label='Validation Accuracy - Static')\n",
        "\n",
        "plt.xlabel(\"Epochs\")\n",
        "plt.ylabel(\"Accuracy\")\n",
        "plt.title(\"Accuracy of Dynamic vs Static Graph CNN Model\")\n",
        "plt.legend()\n",
        "plt.show()"
      ],
      "execution_count": null,
      "outputs": [
        {
          "output_type": "display_data",
          "data": {
            "image/png": "[encoded data removed]",
            "text/plain": [
              "<Figure size 432x288 with 1 Axes>"
            ]
          },
          "metadata": {
            "tags": []
          }
        }
      ]
    },
    {
      "cell_type": "code",
      "metadata": {
        "colab": {
          "base_uri": "https://localhost:8080/",
          "height": 295
        },
        "id": "o8bhd7dxfoNr",
        "outputId": "a39d1c41-6734-4785-d25f-bc7ef4c2e0a1"
      },
      "source": [
        "plt.plot(np.linspace(1,epochs,epochs, dtype=int), history_dgcnn.history['loss'], color='teal', label='Training Loss - Dynamic')\n",
        "plt.plot(np.linspace(1,epochs,epochs, dtype=int), history_dgcnn.history['val_loss'], color='blue', label='Validation Loss - Dynamic')\n",
        "\n",
        "plt.plot(np.linspace(1,epochs,epochs, dtype=int), history_sgcnn.history['loss'], color='orange', label='Training Loss - Static')\n",
        "plt.plot(np.linspace(1,epochs,epochs, dtype=int), history_sgcnn.history['val_loss'], color='red', label='Validation Loss - Static')\n",
        "\n",
        "plt.xlabel(\"Epochs\")\n",
        "plt.ylabel(\"Loss\")\n",
        "plt.title(\"Loss of Dynamic vs Static Graph CNN Model\")\n",
        "plt.legend()\n",
        "plt.show()"
      ],
      "execution_count": null,
      "outputs": [
        {
          "output_type": "display_data",
          "data": {
            "image/png": "[encoded data removed]",
            "text/plain": [
              "<Figure size 432x288 with 1 Axes>"
            ]
          },
          "metadata": {
            "tags": [],
            "needs_background": "light"
          }
        }
      ]
    },
    {
      "cell_type": "markdown",
      "metadata": {
        "id": "u3fptpSJnF1L"
      },
      "source": [
        "From the plots, we can saw a general, consistent trend between the two models:\n",
        "\n",
        "1. The static version is more unstable compared to the dynamic model. There are more (and deeper) local minima seems to exist in the loss landscape of the static version, shown by the more \"jumpy\" validation curve. This shows that dynamically updating the graph helps to stabilize the optimization process.\n",
        "\n",
        "2. But interestingly, the static version final performance, when the models reached convergence, is consistently a little bit better than the dynamic one for both training and validation metric (lower loss, higher accuracy and AUC).\n",
        "\n",
        "3. The training time for the static version (211s/epoch) is lowered than the dynamic version (311s/epoch). This is to be expected since the static version does not need to recalculate the nearest neighboring particles for every EdgeConv block in the network. The difference in time may differs from one hardware to another, but since the difference is quite significant, it is to be expected that the training time for the static model will still be significantly faster than the dynamic model.\n",
        "\n",
        "From this results, one question arises, does the \"dynamic\" aspect of the ParticleNet is important in improving the model's performance? Considering it takes a more significant ammount of training time (and computational power) without a clear improvement in the performance, it is probably wise to reconsider the \"static\" option.\n",
        "\n",
        "The ones that are significantly improving the performance compared to other approaches are probably the EdgeConv operation itself (without updating the graph dynamically) and the particle cloud representation."
      ]
    },
    {
      "cell_type": "markdown",
      "metadata": {
        "id": "WyVDfBC-qG0p"
      },
      "source": [
        "Let's evaluate both models on testing set."
      ]
    },
    {
      "cell_type": "code",
      "metadata": {
        "colab": {
          "base_uri": "https://localhost:8080/"
        },
        "id": "64diHfXfcvRH",
        "outputId": "93a5a824-d22a-4b7c-8f78-0b360bb6b022"
      },
      "source": [
        "# test dataset evaluation for DGCNN\n",
        "\n",
        "loss, acc, auc = model_dynamic.evaluate(test_dict, y_test)\n",
        "print(\"Evaluation Metric of Dynamic Graph CNN Model on Test Dataset\")\n",
        "print(\"Loss:\", loss)\n",
        "print(\"Accuracy:\", acc)\n",
        "print(\"AUC:\", auc)"
      ],
      "execution_count": null,
      "outputs": [
        {
          "output_type": "stream",
          "text": [
            "2813/2813 [==============================] - 41s 14ms/step - loss: 0.4032 - accuracy: 0.8240 - auc_1: 0.8987\n",
            "Evaluation Metric of Dynamic Graph CNN Model on Test Dataset\n",
            "Loss: 0.4032370150089264\n",
            "Accuracy: 0.8239666819572449\n",
            "AUC: 0.8986521363258362\n"
          ],
          "name": "stdout"
        }
      ]
    },
    {
      "cell_type": "code",
      "metadata": {
        "colab": {
          "base_uri": "https://localhost:8080/"
        },
        "id": "uyRgRwo1c0lY",
        "outputId": "d1c6a45a-5790-4d70-ba5e-b1e8489351c8"
      },
      "source": [
        "# test dataset evaluation for SGCNN\n",
        "\n",
        "loss, acc, auc = model_static.evaluate(test_dict, y_test)\n",
        "print(\"Evaluation Metric of Static Graph CNN Model on Test Dataset\")\n",
        "print(\"Loss:\", loss)\n",
        "print(\"Accuracy:\", acc)\n",
        "print(\"AUC:\", auc)"
      ],
      "execution_count": null,
      "outputs": [
        {
          "output_type": "stream",
          "text": [
            "2813/2813 [==============================] - 29s 10ms/step - loss: 0.4019 - accuracy: 0.8243 - auc: 0.8994\n",
            "Evaluation Metric of Static Graph CNN Model on Test Dataset\n",
            "Loss: 0.40190747380256653\n",
            "Accuracy: 0.8243444561958313\n",
            "AUC: 0.899357259273529\n"
          ],
          "name": "stdout"
        }
      ]
    },
    {
      "cell_type": "markdown",
      "metadata": {
        "id": "XsotFlT5qlEq"
      },
      "source": [
        "The table below summarizes all the best results obtained from both models in this project (when convergence is reach) and the original paper's results (reference [2]). Note that the model used in the original paper (ParticleNet-Lite w/ PID) is the same as the dynamic model used in this project, the difference is in the total number of dataset used."
      ]
    },
    {
      "cell_type": "code",
      "metadata": {
        "id": "P6kX3o4MrvVE",
        "colab": {
          "base_uri": "https://localhost:8080/",
          "height": 269
        },
        "outputId": "98285cad-73af-49a6-9c54-50261a901a3a"
      },
      "source": [
        "import pandas as pd\n",
        "\n",
        "summary = {'Accuracy': [0.825, 0.823, 0.829, 0.827, 0.824, 0.824, 0.835],\n",
        "           'AUC': [0.8998, 0.8987, 0.9030, 0.9014, 0.8994, 0.8987, 0.9079]}\n",
        "row_label = [\n",
        "             'Train (Static)', 'Train (Dynamic)',\n",
        "             'Validation (Static)', 'Validation (Dynamic)',\n",
        "             'Test (Static)', 'Test (Dynamic)',\n",
        "             'Reported in the Paper[2]'\n",
        "             ]\n",
        "\n",
        "pd.DataFrame(data=summary, index=row_label)"
      ],
      "execution_count": 2,
      "outputs": [
        {
          "output_type": "execute_result",
          "data": {
            "text/html": [
              "<div>\n",
              "<style scoped>\n",
              "    .dataframe tbody tr th:only-of-type {\n",
              "        vertical-align: middle;\n",
              "    }\n",
              "\n",
              "    .dataframe tbody tr th {\n",
              "        vertical-align: top;\n",
              "    }\n",
              "\n",
              "    .dataframe thead th {\n",
              "        text-align: right;\n",
              "    }\n",
              "</style>\n",
              "<table border=\"1\" class=\"dataframe\">\n",
              "  <thead>\n",
              "    <tr style=\"text-align: right;\">\n",
              "      <th></th>\n",
              "      <th>Accuracy</th>\n",
              "      <th>AUC</th>\n",
              "    </tr>\n",
              "  </thead>\n",
              "  <tbody>\n",
              "    <tr>\n",
              "      <th>Train (Static)</th>\n",
              "      <td>0.825</td>\n",
              "      <td>0.8998</td>\n",
              "    </tr>\n",
              "    <tr>\n",
              "      <th>Train (Dynamic)</th>\n",
              "      <td>0.823</td>\n",
              "      <td>0.8987</td>\n",
              "    </tr>\n",
              "    <tr>\n",
              "      <th>Validation (Static)</th>\n",
              "      <td>0.829</td>\n",
              "      <td>0.9030</td>\n",
              "    </tr>\n",
              "    <tr>\n",
              "      <th>Validation (Dynamic)</th>\n",
              "      <td>0.827</td>\n",
              "      <td>0.9014</td>\n",
              "    </tr>\n",
              "    <tr>\n",
              "      <th>Test (Static)</th>\n",
              "      <td>0.824</td>\n",
              "      <td>0.8994</td>\n",
              "    </tr>\n",
              "    <tr>\n",
              "      <th>Test (Dynamic)</th>\n",
              "      <td>0.824</td>\n",
              "      <td>0.8987</td>\n",
              "    </tr>\n",
              "    <tr>\n",
              "      <th>Reported in the Paper[2]</th>\n",
              "      <td>0.835</td>\n",
              "      <td>0.9079</td>\n",
              "    </tr>\n",
              "  </tbody>\n",
              "</table>\n",
              "</div>"
            ],
            "text/plain": [
              "                          Accuracy     AUC\n",
              "Train (Static)               0.825  0.8998\n",
              "Train (Dynamic)              0.823  0.8987\n",
              "Validation (Static)          0.829  0.9030\n",
              "Validation (Dynamic)         0.827  0.9014\n",
              "Test (Static)                0.824  0.8994\n",
              "Test (Dynamic)               0.824  0.8987\n",
              "Reported in the Paper[2]     0.835  0.9079"
            ]
          },
          "metadata": {
            "tags": []
          },
          "execution_count": 2
        }
      ]
    },
    {
      "cell_type": "markdown",
      "metadata": {
        "id": "73FX6gGzaaK7"
      },
      "source": [
        "With the test set results now included, it is clear that the dynamic model does not offer a clear improvement in performance, both accuracy and AUC. The numerical results obtained here may include some uncertainty and this experiment needs to be carried out several times in the future to calculate the mean and the standard deviation. But at least this results show a clear indication that even without dynamically updating the graph between EdgeConv, the model still performed as well."
      ]
    },
    {
      "cell_type": "markdown",
      "metadata": {
        "id": "3tO6bVUdb_e5"
      },
      "source": [
        "It is also interesting to note that the total samples used in the dataset mattered in the model's performance. The original paper used 2000k dataset, more than twice the dataset used in this project, and the performance of the original paper's model is indeed better (to be expected as more data usually means better model)."
      ]
    },
    {
      "cell_type": "markdown",
      "metadata": {
        "id": "Q7Ay0K6Dd_RL"
      },
      "source": [
        "## Conclusion"
      ]
    },
    {
      "cell_type": "markdown",
      "metadata": {
        "id": "DpN-fIEIeNuO"
      },
      "source": [
        "In this project, two models based on reference [2] are trained to do quark-gluon tagging, using a much lower number of training samples. The first model is the dynamic model, the same model as the ParticleNet-Lite w/ PID from reference [2]. The second model is the static model, a similar architecture as the ParticleNet-Lite w/ PID but without dynamically updating the graph through the networks.\n",
        "\n",
        "From the numerical results, we may conclude that the \"dynamic\" aspect of the first model does not show any clear improvement in the model's performance, at least for the lite version of ParticleNet. Considering that the first model significantly needs more training time, it is recommended to reconsider the second model (Static Graph CNN) as it is able to give a similar performance with lower training time (and computational power)."
      ]
    },
    {
      "cell_type": "markdown",
      "metadata": {
        "id": "klXUsW6YBLLC"
      },
      "source": [
        "## References\n",
        "\n",
        "[1] [P. Komiske, E. Metodiev, and J. Thaler, “Pythia8 Quark and Gluon Jets for Energy Flow,” May 2019.](https://zenodo.org/record/3164691#.Xk1VwS2B1QI) <br>\n",
        "[2] [H. Qu and L. Gouskos, “Jet tagging via particle clouds,” Phys. Rev. D, vol. 101, no. 5, p. 056019, Mar. 2020.](https://journals.aps.org/prd/abstract/10.1103/PhysRevD.101.056019) <br>\n",
        "[3] [Y. Wang, Y. Sun, Z. Liu, S. E. Sarma, M. M. Bronstein, and J. M. Solomon, “Dynamic Graph CNN for Learning on Point Clouds,” ACM Trans. Graph., vol. 38, no. 5, p. Article 146, 2019.](https://dl.acm.org/doi/10.1145/3326362)"
      ]
    }
  ]
}