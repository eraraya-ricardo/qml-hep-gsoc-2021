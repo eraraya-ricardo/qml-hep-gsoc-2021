{
  "nbformat": 4,
  "nbformat_minor": 0,
  "metadata": {
    "colab": {
      "name": "QML-HEP GSoC 2021 Tasks V Quantum Computing.ipynb",
      "provenance": [],
      "collapsed_sections": []
    },
    "kernelspec": {
      "name": "python3",
      "display_name": "Python 3"
    }
  },
  "cells": [
    {
      "cell_type": "markdown",
      "metadata": {
        "id": "kbNZLfmRPwHO"
      },
      "source": [
        "# Task V: Open Task Part"
      ]
    },
    {
      "cell_type": "markdown",
      "metadata": {
        "id": "Hd3ZFejT5v6L"
      },
      "source": [
        "Please comment on quantum computing or quantum machine learning. You can also comment on one quantum algorithm or one quantum software you are familiar with. You can also suggest methods you think are good and you would like to work."
      ]
    },
    {
      "cell_type": "markdown",
      "metadata": {
        "id": "sufeW2P_51i0"
      },
      "source": [
        "## Quantum algorithm & software that I am familiar with"
      ]
    },
    {
      "cell_type": "markdown",
      "metadata": {
        "id": "qvoMDnxg6U3G"
      },
      "source": [
        "I have been working in the field of quantum machine learning for about one year. My undergraduate thesis' topic is quantum machine learning (I will elaborate more about this in the next section). Quantum programming frameworks that I am most familiar with are PennyLane and Qiskit since I used both when I worked on my thesis. I am also familiar with QuTiP. I used it a lot to visualize (image and video/GIF) quantum states."
      ]
    },
    {
      "cell_type": "markdown",
      "metadata": {
        "id": "SGuRDCsk81DV"
      },
      "source": [
        "I understood and have some coding experience on many \"textbook\" quantum algorithms, e.g., VQE, QAOA, Grover's Algorithm, Quantum Fourier Transform, Quantum Phase Estimation, Shor's Algorithm, Bernstein-Vazirani Algorithm, Simon's Algorithm, etc."
      ]
    },
    {
      "cell_type": "markdown",
      "metadata": {
        "id": "PfHDvqya-BCo"
      },
      "source": [
        "Since last year, I have read many QML research papers. I also attended several online conferences such as QTML 2020 and Quantum 2020 by the Institute of Physics. Some quantum algorithms from research paper that I have implemented in code myself are as follow:\n",
        "\n",
        "1. The data re-uploading classifier from [“Data re-uploading for a universal quantum classifier”](https://quantum-journal.org/papers/q-2020-02-06-226/) (for thesis and Xanadu's QHack 2021 Open Hackathon).\n",
        "2. Layerwise learning from [“Layerwise learning for quantum neural networks”](https://link.springer.com/article/10.1007/s42484-020-00036-4) (for Xanadu's QHack 2021 Open Hackathon).\n",
        "3. VQE for excited states from [Variational Quantum Computation of Excited States](https://arxiv.org/abs/1805.08138) (for Xanadu's QHack 2021 QML Challenges).\n",
        "4. Quantum Graph Neural Networks from [Quantum Graph Neural Networks](https://arxiv.org/abs/1909.12264) (for the Qiskit Advocate Mentorship Program)."
      ]
    },
    {
      "cell_type": "markdown",
      "metadata": {
        "id": "UfbCLSnR6C5d"
      },
      "source": [
        "## Methods Suggestions"
      ]
    },
    {
      "cell_type": "markdown",
      "metadata": {
        "id": "9BmjsW1yB5cf"
      },
      "source": [
        "I have always been amazed by the [data re-uploading classifier](https://quantum-journal.org/papers/q-2020-02-06-226/), both in performance (accuracy) and in resources (only need a minimal number of qubits). I have used it on two occasions, and both give successful results.\n",
        "\n",
        "1. In my thesis, I used it to classify the PCA-transformed MNIST dataset (2 classes) and got more than 99% of accuracy by just using 1 qubit. This is a significant improvement if compared to some previous related works[1-3]. It also performed well on multi-class classification. It got more than 95% of accuracy for 4-class classification just by using 2 qubits. The code can be accessed [here](https://github.com/eraraya-ricardo/quantum_image_classifier/blob/master/PennyLane/Data%20Reuploading%20Classifier/2_PCA_QFC%20(best).ipynb) and [here](https://github.com/eraraya-ricardo/quantum_image_classifier/blob/master/PennyLane/Data%20Reuploading%20Classifier/4_PCA_QFC_BinRep%20(best).ipynb).\n",
        "\n",
        "2. During Xanadu's QHack 2021 Open Hackathon, my team proposed to use it and layerwise learning from reference [2] to classify events in [SUSY dataset](https://archive.ics.uci.edu/ml/datasets/SUSY#). We obtained better AUC compared to the paper [Event Classification with Quantum Machine Learning in High-Energy Physics](https://arxiv.org/abs/2002.09935). We won second place in the event. The code can be accessed [here](https://github.com/eraraya-ricardo/qhack-2021-openproject).\n",
        "\n",
        "This classifier seems to work really well. I think it worth a try for both of the QML-HEP projects, but mainly the \"Quantum Neural Networks for High Energy Physics Analysis at the LHC\" project."
      ]
    },
    {
      "cell_type": "markdown",
      "metadata": {
        "id": "6Ab-OIu2DXKm"
      },
      "source": [
        "# References\n",
        "\n",
        "1. [E. Farhi and H. Neven, “Classification with Quantum Neural Networks on Near Term Processors,” pp. 1–21, 2018.](https://arxiv.org/abs/1802.06002)\n",
        "2. [A. Skolik, J. R. McClean, M. Mohseni, P. van der Smagt, and M. Leib, “Layerwise learning for quantum neural networks,” Quantum Mach. Intell., vol. 3, no. 1, p. 5, Jun. 2021.](https://link.springer.com/article/10.1007/s42484-020-00036-4)\n",
        "3. [S. Mardirosian, “Quantum-enhanced Supervised Learning with Variational Quantum Circuits,” Leiden University, 2019.](https://theses.liacs.nl/pdf/2018-2019-MardirosianSevak.pdf)"
      ]
    },
    {
      "cell_type": "code",
      "metadata": {
        "id": "IdUYRCht5vUf"
      },
      "source": [
        ""
      ],
      "execution_count": null,
      "outputs": []
    }
  ]
}